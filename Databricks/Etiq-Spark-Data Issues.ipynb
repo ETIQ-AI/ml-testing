{
 "cells": [
  {
   "attachments": {},
   "cell_type": "markdown",
   "metadata": {
    "application/vnd.databricks.v1+cell": {
     "cellMetadata": {},
     "inputWidgets": {},
     "nuid": "c84ea165-4d73-4255-93ca-db80a2762554",
     "showTitle": false,
     "title": ""
    }
   },
   "source": [
    "# Notebook Summary \n",
    "\n",
    "This is a databricks sample notebook demonstrating how to use the ETIQ library to run data analyses on a spark dataset. Please note that this is just an example on a large scale dataset which has not been cleaned.\n",
    "\n",
    "### Quickstart\n",
    "\n",
    "  1. Install and import etiq library with the spark extension \n",
    "\n",
    "  2. Login to the dashboard - this way you can send the results to your dashboard instance (Etiq AWS instance if you use the SaaS version). To deploy on your own cloud instance, get in touch (info@etiq.ai)\n",
    "\n",
    "  3. Create or open a project \n",
    "  \n",
    "### Data Issues\n",
    "\n",
    "\n",
    "  4. Load the New York Yellow Taxi Trips data\n",
    "  \n",
    "  5. Scan for data isssues. In this case we limit our scan to ordering issues i.e. where the pickup time is recorded as occurring after the drop off time."
   ]
  },
  {
   "cell_type": "code",
   "execution_count": null,
   "metadata": {
    "application/vnd.databricks.v1+cell": {
     "cellMetadata": {},
     "inputWidgets": {},
     "nuid": "5a1c5ad8-27f5-46b4-84f5-d2d0d360b419",
     "showTitle": false,
     "title": ""
    }
   },
   "outputs": [],
   "source": [
    "# Install the spark extension for etiq. This will install the etiq base package as a dependency\n",
    "%pip install etiq-spark"
   ]
  },
  {
   "cell_type": "code",
   "execution_count": null,
   "metadata": {
    "application/vnd.databricks.v1+cell": {
     "cellMetadata": {},
     "inputWidgets": {},
     "nuid": "142be9af-4be1-4bca-b675-4fd067199f83",
     "showTitle": false,
     "title": ""
    }
   },
   "outputs": [],
   "source": [
    "# Import the spark extensions for etiq\n",
    "import etiq.spark\n",
    "import datetime"
   ]
  },
  {
   "cell_type": "code",
   "execution_count": null,
   "metadata": {
    "application/vnd.databricks.v1+cell": {
     "cellMetadata": {},
     "inputWidgets": {},
     "nuid": "cca49940-197b-4353-a194-c128875210cf",
     "showTitle": false,
     "title": ""
    }
   },
   "outputs": [],
   "source": [
    "# Login to the etiq dashboard\n",
    "from etiq import login as etiq_login\n",
    "etiq_login(\"https://dashboard.etiq.ai/\", \"<your-key>\")"
   ]
  },
  {
   "cell_type": "code",
   "execution_count": null,
   "metadata": {
    "application/vnd.databricks.v1+cell": {
     "cellMetadata": {},
     "inputWidgets": {},
     "nuid": "b0116a56-5081-42a3-8f05-263eee9005ee",
     "showTitle": false,
     "title": ""
    }
   },
   "outputs": [],
   "source": [
    "# Create a project\n",
    "project = etiq.projects.open(name=f\"NYC Yellow Taxi Trips ({datetime.datetime.now().date()})\")\n"
   ]
  },
  {
   "attachments": {},
   "cell_type": "markdown",
   "metadata": {
    "application/vnd.databricks.v1+cell": {
     "cellMetadata": {},
     "inputWidgets": {},
     "nuid": "e7ff5fd3-5ef5-4043-84b7-bb8b6e3c2751",
     "showTitle": false,
     "title": ""
    }
   },
   "source": [
    "## Load the NY Yellow Taxi Trips Data"
   ]
  },
  {
   "attachments": {},
   "cell_type": "markdown",
   "metadata": {},
   "source": [
    "### Load the spark data"
   ]
  },
  {
   "cell_type": "code",
   "execution_count": null,
   "metadata": {
    "application/vnd.databricks.v1+cell": {
     "cellMetadata": {},
     "inputWidgets": {},
     "nuid": "6c106c91-6eb7-4397-b4a8-d0a4da9f8a2e",
     "showTitle": false,
     "title": ""
    }
   },
   "outputs": [],
   "source": [
    "from pyspark.sql.functions import lit, year\n",
    "\n",
    "# Load ny yellow taxi trips data into a spark dataframe\n",
    "yellow_taxi_trips = spark.read.load(\"dbfs:/databricks-datasets/nyctaxi/tables/nyctaxi_yellow\")\n",
    "yellow_taxi_trips.show()\n",
    "\n",
    "# Get data for trips in 2018 and 2019\n",
    "yellow_taxi_trips_2012 = yellow_taxi_trips.filter(year('pickup_datetime') == lit(2012))\n",
    "yellow_taxi_trips_2014 = yellow_taxi_trips.filter(year('pickup_datetime') == lit(2014))"
   ]
  },
  {
   "attachments": {},
   "cell_type": "markdown",
   "metadata": {},
   "source": [
    "### Create ETIQ datasets"
   ]
  },
  {
   "cell_type": "code",
   "execution_count": null,
   "metadata": {
    "application/vnd.databricks.v1+cell": {
     "cellMetadata": {},
     "inputWidgets": {},
     "nuid": "bdc34483-8eda-40f6-925f-96139916688f",
     "showTitle": false,
     "title": ""
    }
   },
   "outputs": [],
   "source": [
    "# Create etiq dataset from all the data\n",
    "yellow_taxi_trips_dataset = etiq.spark.SimpleSparkDatasetBuilder.datasets(validation_features=yellow_taxi_trips,\n",
    "                                                                          label='tip_amount',\n",
    "                                                                          cat_col = ['payment_type', 'rate_code_id', 'store_and_fwd_flag', 'vendor_id'],\n",
    "                                                                          date_col = ['dropoff_datetime', 'pickup_datetime'],\n",
    "                                                                          name='NY Yellow Tax Trips')\n",
    "# Create an etiq dataset for the data from 2012\n",
    "yellow_taxi_trips_dataset_2012 = etiq.spark.SimpleSparkDatasetBuilder.datasets(validation_features=yellow_taxi_trips_2012,\n",
    "                                                                          label='tip_amount',\n",
    "                                                                          cat_col = ['payment_type', 'rate_code_id', 'store_and_fwd_flag', 'vendor_id'],\n",
    "                                                                          date_col = ['dropoff_datetime', 'pickup_datetime'],\n",
    "                                                                          name='NY Yellow Tax Trips (2012)')\n",
    "# Create an etiq dataset for the data from 2014                                                                          \n",
    "yellow_taxi_trips_dataset_2014 = etiq.spark.SimpleSparkDatasetBuilder.datasets(validation_features=yellow_taxi_trips_2014,\n",
    "                                                                          label='tip_amount',\n",
    "                                                                          cat_col = ['payment_type', 'rate_code_id', 'store_and_fwd_flag', 'vendor_id'],\n",
    "                                                                          date_col = ['dropoff_datetime', 'pickup_datetime'],\n",
    "                                                                          name='NY Yellow Tax Trips (2014)')   "
   ]
  },
  {
   "attachments": {},
   "cell_type": "markdown",
   "metadata": {},
   "source": [
    "### Create Snapshots"
   ]
  },
  {
   "cell_type": "code",
   "execution_count": null,
   "metadata": {},
   "outputs": [],
   "source": [
    "# Create snapshot containing all the data\n",
    "snapshot = project.snapshots.create(name=\"Data Issues\",\n",
    "                                    dataset=yellow_taxi_trips_dataset,\n",
    "                                    model=None)\n",
    "# Create a snapshot to compare data from 2012 and 2014\n",
    "snapshot_2012_2014 = project.snapshots.create(name=\"Data Issues 2012/2014\",\n",
    "                                    dataset=yellow_taxi_trips_dataset_2012,\n",
    "                                    comparison_dataset=yellow_taxi_trips_dataset_2014,\n",
    "                                    model=None)"
   ]
  },
  {
   "attachments": {},
   "cell_type": "markdown",
   "metadata": {
    "application/vnd.databricks.v1+cell": {
     "cellMetadata": {},
     "inputWidgets": {},
     "nuid": "b1b3166e-179a-41fe-af2d-0170dfe8a629",
     "showTitle": false,
     "title": ""
    }
   },
   "source": [
    "## Scan Snapshots for Issues"
   ]
  },
  {
   "attachments": {},
   "cell_type": "markdown",
   "metadata": {},
   "source": [
    "### Scan for Data Issues"
   ]
  },
  {
   "cell_type": "code",
   "execution_count": null,
   "metadata": {
    "application/vnd.databricks.v1+cell": {
     "cellMetadata": {},
     "inputWidgets": {},
     "nuid": "d56e4d3e-4339-4c7b-8b15-dd55a50abd91",
     "showTitle": false,
     "title": ""
    }
   },
   "outputs": [],
   "source": [
    "# Scan the snapshot for data issues.\n",
    "# We limit these to only issues where pickup_datetime is recorded as occuring after dropoff_datetme\n",
    "(segments, issues, issue_summary) = snapshot.scan_data_issues(orderings=[('pickup_datetime', 'dropoff_datetime')], \n",
    "                                                              filter_ids=[], \n",
    "                                                              duplicate_features_subset=[])"
   ]
  },
  {
   "attachments": {},
   "cell_type": "markdown",
   "metadata": {},
   "source": [
    "### Scan for feature drift"
   ]
  },
  {
   "cell_type": "code",
   "execution_count": null,
   "metadata": {
    "application/vnd.databricks.v1+cell": {
     "cellMetadata": {},
     "inputWidgets": {},
     "nuid": "ab04b8c4-add5-4fef-b788-cb7e66d63099",
     "showTitle": false,
     "title": ""
    }
   },
   "outputs": [],
   "source": [
    "# Scan for drift on payment type, fare amount and trip distance \n",
    "# between 2012 and 2014 using the psi, jensen-shannon and kolmogorov \n",
    "# smirnov metrics\n",
    "(drift_segments, drift_issues, drift_issue_summary)  = (\n",
    "    snapshot_2012_2014.scan_drift_metrics(features=[\"payment_type\", \"fare_amount\", \"trip_distance\"], \n",
    "                                          drift_measures=[\"psi\", \"jensen_shannon\", \"kolmogorov_smirnov\"],\n",
    "                                          thresholds={\"psi\": [0.0, 0.15],\n",
    "                                                      \"kolmogorov_smirnov\": [0.05, 1.0],\n",
    "                                                      \"jensen_shannon\": [0.0, 0.05]},\n",
    "                                          ignore_lower_threshold=False,\n",
    "                                          ignore_upper_threshold=False)\n",
    ")"
   ]
  }
 ],
 "metadata": {
  "application/vnd.databricks.v1+notebook": {
   "dashboards": [],
   "language": "python",
   "notebookMetadata": {
    "pythonIndentUnit": 4
   },
   "notebookName": "Etiq-Spark-Data Issues",
   "notebookOrigID": 644404519908797,
   "widgets": {}
  },
  "kernelspec": {
   "display_name": "etiq-1.3.8-release",
   "language": "python",
   "name": "etiq-1.3.8-release"
  },
  "language_info": {
   "codemirror_mode": {
    "name": "ipython",
    "version": 3
   },
   "file_extension": ".py",
   "mimetype": "text/x-python",
   "name": "python",
   "nbconvert_exporter": "python",
   "pygments_lexer": "ipython3",
   "version": "3.8.10"
  }
 },
 "nbformat": 4,
 "nbformat_minor": 0
}
