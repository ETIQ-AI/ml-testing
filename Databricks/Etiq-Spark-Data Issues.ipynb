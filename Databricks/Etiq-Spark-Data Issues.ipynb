{
 "cells": [
  {
   "attachments": {},
   "cell_type": "markdown",
   "metadata": {
    "application/vnd.databricks.v1+cell": {
     "cellMetadata": {},
     "inputWidgets": {},
     "nuid": "c84ea165-4d73-4255-93ca-db80a2762554",
     "showTitle": false,
     "title": ""
    }
   },
   "source": [
    "# Notebook Summary \n",
    "\n",
    "This is a databricks sample notebook demonstrating how to use the ETIQ library to run data analyses on a spark dataset.\n",
    "\n",
    "### Quickstart\n",
    "\n",
    "  1. Install and import etiq library with the spark extension \n",
    "\n",
    "  2. Login to the dashboard - this way you can send the results to your dashboard instance (Etiq AWS instance if you use the SaaS version). To deploy on your own cloud instance, get in touch (info@etiq.ai)\n",
    "\n",
    "  3. Create or open a project \n",
    "  \n",
    "### Data Issues\n",
    "\n",
    "\n",
    "  4. Load the New York Yellow Taxi Trips data\n",
    "  \n",
    "  5. Scan for data isssues. In this case we limit our scan to ordering issues i.e. where the pickup time is recorded as occurring after the drop off time."
   ]
  },
  {
   "cell_type": "code",
   "execution_count": null,
   "metadata": {
    "application/vnd.databricks.v1+cell": {
     "cellMetadata": {},
     "inputWidgets": {},
     "nuid": "5a1c5ad8-27f5-46b4-84f5-d2d0d360b419",
     "showTitle": false,
     "title": ""
    }
   },
   "outputs": [],
   "source": [
    "# Install the spark extension for etiq. This will install the etiq base package as a dependency\n",
    "%pip install etiq-spark"
   ]
  },
  {
   "cell_type": "code",
   "execution_count": null,
   "metadata": {
    "application/vnd.databricks.v1+cell": {
     "cellMetadata": {},
     "inputWidgets": {},
     "nuid": "142be9af-4be1-4bca-b675-4fd067199f83",
     "showTitle": false,
     "title": ""
    }
   },
   "outputs": [],
   "source": [
    "# Import the spark extensions for etiq\n",
    "import etiq.spark"
   ]
  },
  {
   "cell_type": "code",
   "execution_count": null,
   "metadata": {
    "application/vnd.databricks.v1+cell": {
     "cellMetadata": {},
     "inputWidgets": {},
     "nuid": "cca49940-197b-4353-a194-c128875210cf",
     "showTitle": false,
     "title": ""
    }
   },
   "outputs": [],
   "source": [
    "# Login to the etiq dashboard\n",
    "from etiq import login as etiq_login\n",
    "etiq_login(\"https://dashboard.etiq.ai/\", \"<your-key>\")"
   ]
  },
  {
   "cell_type": "code",
   "execution_count": null,
   "metadata": {
    "application/vnd.databricks.v1+cell": {
     "cellMetadata": {},
     "inputWidgets": {},
     "nuid": "b0116a56-5081-42a3-8f05-263eee9005ee",
     "showTitle": false,
     "title": ""
    }
   },
   "outputs": [],
   "source": [
    "# Create an ETIQ project for our analysis\n",
    "project = etiq.projects.open(name=\"NYC Yellow Taxi Trips\")\n"
   ]
  },
  {
   "attachments": {},
   "cell_type": "markdown",
   "metadata": {
    "application/vnd.databricks.v1+cell": {
     "cellMetadata": {},
     "inputWidgets": {},
     "nuid": "e7ff5fd3-5ef5-4043-84b7-bb8b6e3c2751",
     "showTitle": false,
     "title": ""
    }
   },
   "source": [
    "## Load the NY Yellow Taxi Trips Data"
   ]
  },
  {
   "cell_type": "code",
   "execution_count": null,
   "metadata": {
    "application/vnd.databricks.v1+cell": {
     "cellMetadata": {},
     "inputWidgets": {},
     "nuid": "6c106c91-6eb7-4397-b4a8-d0a4da9f8a2e",
     "showTitle": false,
     "title": ""
    }
   },
   "outputs": [],
   "source": [
    "# Load ny yellow taxi trips data into a spark dataframe\n",
    "yellow_taxi_trips = spark.read.load(\"dbfs:/databricks-datasets/nyctaxi/tables/nyctaxi_yellow\")\n",
    "yellow_taxi_trips.show()"
   ]
  },
  {
   "cell_type": "code",
   "execution_count": null,
   "metadata": {
    "application/vnd.databricks.v1+cell": {
     "cellMetadata": {},
     "inputWidgets": {},
     "nuid": "bdc34483-8eda-40f6-925f-96139916688f",
     "showTitle": false,
     "title": ""
    }
   },
   "outputs": [],
   "source": [
    "# Create etiq dataset from the dataframe\n",
    "yellow_taxi_trips_dataset = etiq.spark.SimpleSparkDatasetBuilder.datasets(validation_features=yellow_taxi_trips,\n",
    "                                                                          label='tip_amount',\n",
    "                                                                          cat_col = ['payment_type', 'rate_code_id', 'store_and_fwd_flag', 'vendor_id'],\n",
    "                                                                          date_col = ['dropoff_datetime', 'pickup_datetime'],\n",
    "                                                                          name='NY Yellow Tax Trips')\n",
    "# Create a snapshot (containing the dataset) under the previous created project\n",
    "snapshot = project.snapshots.create(name=\"Data Issues\",\n",
    "                                    dataset=yellow_taxi_trips_dataset,\n",
    "                                    model=None)"
   ]
  },
  {
   "attachments": {},
   "cell_type": "markdown",
   "metadata": {
    "application/vnd.databricks.v1+cell": {
     "cellMetadata": {},
     "inputWidgets": {},
     "nuid": "b1b3166e-179a-41fe-af2d-0170dfe8a629",
     "showTitle": false,
     "title": ""
    }
   },
   "source": [
    "## Find data issues"
   ]
  },
  {
   "cell_type": "code",
   "execution_count": null,
   "metadata": {
    "application/vnd.databricks.v1+cell": {
     "cellMetadata": {},
     "inputWidgets": {},
     "nuid": "d56e4d3e-4339-4c7b-8b15-dd55a50abd91",
     "showTitle": false,
     "title": ""
    }
   },
   "outputs": [],
   "source": [
    "# Scan the snapshot for data issues.\n",
    "# We limit these to only issues where pickup_datetime is recorded as occuring after dropoff_datetme\n",
    "(segments, issues, issue_summary) = snapshot.scan_data_issues(orderings=[('pickup_datetime', 'dropoff_datetime')], \n",
    "                                                              filter_ids=[], \n",
    "                                                              duplicate_features_subset=[])"
   ]
  },
  {
   "cell_type": "code",
   "execution_count": null,
   "metadata": {
    "application/vnd.databricks.v1+cell": {
     "cellMetadata": {},
     "inputWidgets": {},
     "nuid": "ab04b8c4-add5-4fef-b788-cb7e66d63099",
     "showTitle": false,
     "title": ""
    }
   },
   "outputs": [],
   "source": []
  }
 ],
 "metadata": {
  "application/vnd.databricks.v1+notebook": {
   "dashboards": [],
   "language": "python",
   "notebookMetadata": {
    "pythonIndentUnit": 4
   },
   "notebookName": "Etiq-Spark-Data Issues",
   "notebookOrigID": 644404519908797,
   "widgets": {}
  },
  "language_info": {
   "name": "python"
  }
 },
 "nbformat": 4,
 "nbformat_minor": 0
}
