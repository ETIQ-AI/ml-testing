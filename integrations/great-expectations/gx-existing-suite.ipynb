{
 "cells": [
  {
   "cell_type": "markdown",
   "metadata": {},
   "source": [
    "# GX integration API"
   ]
  },
  {
   "cell_type": "markdown",
   "metadata": {},
   "source": [
    "First we import and create our ETIQ project and make a snapshot against that;"
   ]
  },
  {
   "cell_type": "code",
   "execution_count": 1,
   "metadata": {},
   "outputs": [],
   "source": [
    "import etiq\n",
    "\n",
    "data = etiq.utils.load_sample(\"adultdataset.csv\")\n",
    "dataset = etiq.SimpleDatasetBuilder.dataset(data)\n",
    "\n",
    "project = etiq.projects.open(\"Great Expectations Integration\")\n",
    "\n",
    "snapshot = project.snapshots.create(\n",
    "    name=\"gx test\",\n",
    "    dataset=dataset,\n",
    "    model=etiq.model.DefaultXGBoostClassifier(),\n",
    ")\n"
   ]
  },
  {
   "cell_type": "markdown",
   "metadata": {},
   "source": [
    "## Using an existing expectation suite\n",
    "\n",
    "This is as simple as just passing in your context and the suite name.\n",
    "\n",
    "The ETIQ library will create a batch test against its dataset (`dataset` above) and run the expectations against it, reporting the results to the dashboard if that's been specified."
   ]
  },
  {
   "cell_type": "code",
   "execution_count": 2,
   "metadata": {},
   "outputs": [
    {
     "data": {
      "text/plain": [
       "['Andrew Test']"
      ]
     },
     "execution_count": 2,
     "metadata": {},
     "output_type": "execute_result"
    }
   ],
   "source": [
    "import great_expectations as gx\n",
    "\n",
    "# If the great expectations project is in the current folder:\n",
    "context = gx.get_context()\n",
    "\n",
    "# What Suites do we have?\n",
    "context.list_expectation_suite_names()\n"
   ]
  },
  {
   "cell_type": "code",
   "execution_count": 4,
   "metadata": {},
   "outputs": [],
   "source": [
    "# Neat. Let's run that within our ETIQ project\n",
    "(segments, issues, aggregates) = snapshot.scan_expectations(context=context, suite_name=\"Andrew Test\")\n",
    "\n",
    "# All done!\n"
   ]
  },
  {
   "cell_type": "markdown",
   "metadata": {},
   "source": [
    "## Integrating Existing Results\n",
    "\n",
    "If you have an existing GX suite you can simply pass in your [Checkpoint Results](https://docs.greatexpectations.io/docs/reference/api/checkpoint/types/checkpoint_result/CheckpointResult_class) to the `scan_expectations` method;"
   ]
  },
  {
   "cell_type": "code",
   "execution_count": null,
   "metadata": {
    "tags": [
     "skip-execution"
    ]
   },
   "outputs": [],
   "source": [
    "# existing_suite_checkpoint is a checkpoint from your own existing suite.\n",
    "my_results = existing_suite_checkpoint.run()\n",
    "\n",
    "(segments, issues, aggregates) = snapshot.scan_expectations(results=my_results)\n"
   ]
  }
 ],
 "metadata": {
  "kernelspec": {
   "display_name": "Python 3 (ipykernel)",
   "language": "python",
   "name": "python3"
  },
  "language_info": {
   "codemirror_mode": {
    "name": "ipython",
    "version": 3
   },
   "file_extension": ".py",
   "mimetype": "text/x-python",
   "name": "python",
   "nbconvert_exporter": "python",
   "pygments_lexer": "ipython3",
   "version": "3.9.18"
  }
 },
 "nbformat": 4,
 "nbformat_minor": 4
}
