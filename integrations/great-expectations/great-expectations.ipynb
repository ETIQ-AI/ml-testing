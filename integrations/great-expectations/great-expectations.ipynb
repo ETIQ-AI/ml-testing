{
 "cells": [
  {
   "cell_type": "markdown",
   "id": "3a2ba9e5-1ad8-4873-9e31-ebfdc587452e",
   "metadata": {
    "jp-MarkdownHeadingCollapsed": true
   },
   "source": [
    "### Great Expectaions Integration\n"
   ]
  },
  {
   "cell_type": "code",
   "execution_count": 1,
   "id": "8b9fbe88-1424-4997-8eed-9a4f5692784f",
   "metadata": {
    "scrolled": true
   },
   "outputs": [
    {
     "name": "stdout",
     "output_type": "stream",
     "text": [
      "Thanks for using the ETIQ.AI toolkit\n",
      "\n",
      "Help improve our product: Call `etiq.enable_telemetry()` to provide\n",
      "anonymous library usage statistics.\n",
      "        \n",
      "(Dashboard did not supply a valid license response)\n"
     ]
    },
    {
     "data": {
      "text/plain": [
       "'Connection successful. Projects and pipelines will be displayed in the dashboard. 😀'"
      ]
     },
     "execution_count": 1,
     "metadata": {},
     "output_type": "execute_result"
    }
   ],
   "source": [
    "import etiq"
   ]
  },
  {
   "cell_type": "code",
   "execution_count": 2,
   "id": "740d7782-7c59-41ff-bdbd-66dff6816560",
   "metadata": {},
   "outputs": [
    {
     "name": "stdout",
     "output_type": "stream",
     "text": [
      "WARNING:py.warnings:/home/andy/git/etiq/env/lib64/python3.10/site-packages/pandas-1.5.3-py3.10-linux-x86_64.egg/pandas/core/algorithms.py:522: DeprecationWarning: np.find_common_type is deprecated.  Please use `np.result_type` or `np.promote_types`.\n",
      "See https://numpy.org/devdocs/release/1.25.0-notes.html and the docs for more information.  (Deprecated NumPy 1.25)\n",
      "  common = np.find_common_type([values.dtype, comps_array.dtype], [])\n",
      "\n",
      "WARNING:py.warnings:/home/andy/git/etiq/env/lib64/python3.10/site-packages/pandas-1.5.3-py3.10-linux-x86_64.egg/pandas/core/algorithms.py:522: DeprecationWarning: np.find_common_type is deprecated.  Please use `np.result_type` or `np.promote_types`.\n",
      "See https://numpy.org/devdocs/release/1.25.0-notes.html and the docs for more information.  (Deprecated NumPy 1.25)\n",
      "  common = np.find_common_type([values.dtype, comps_array.dtype], [])\n",
      "\n",
      "WARNING:py.warnings:/home/andy/git/etiq/env/lib64/python3.10/site-packages/pandas-1.5.3-py3.10-linux-x86_64.egg/pandas/core/dtypes/cast.py:1641: DeprecationWarning: np.find_common_type is deprecated.  Please use `np.result_type` or `np.promote_types`.\n",
      "See https://numpy.org/devdocs/release/1.25.0-notes.html and the docs for more information.  (Deprecated NumPy 1.25)\n",
      "  return np.find_common_type(types, [])\n",
      "\n",
      "WARNING:py.warnings:/home/andy/git/etiq/env/lib64/python3.10/site-packages/pandas-1.5.3-py3.10-linux-x86_64.egg/pandas/core/dtypes/cast.py:1641: DeprecationWarning: np.find_common_type is deprecated.  Please use `np.result_type` or `np.promote_types`.\n",
      "See https://numpy.org/devdocs/release/1.25.0-notes.html and the docs for more information.  (Deprecated NumPy 1.25)\n",
      "  return np.find_common_type(types, [])\n",
      "\n"
     ]
    }
   ],
   "source": [
    "# Create our datasets\n",
    "data = etiq.utils.load_sample(\"adultdataset.csv\")\n",
    "dataset = etiq.SimpleDatasetBuilder.dataset(data)\n"
   ]
  },
  {
   "cell_type": "code",
   "execution_count": 3,
   "id": "b2cace44-0b12-47b0-8eba-06b535061223",
   "metadata": {},
   "outputs": [],
   "source": [
    "project = etiq.projects.open(\"Great Expectations Integration\")\n"
   ]
  },
  {
   "cell_type": "code",
   "execution_count": 4,
   "id": "7f8fc337-f823-4731-8b57-767c0aed388a",
   "metadata": {},
   "outputs": [
    {
     "name": "stdout",
     "output_type": "stream",
     "text": [
      "INFO:etiq.charting:Histogram summary already created for this data.\n"
     ]
    }
   ],
   "source": [
    "snapshot = project.snapshots.create(\n",
    "    name=\"Simple expectations\",\n",
    "    dataset=dataset,\n",
    "    model=etiq.model.DefaultXGBoostClassifier(),\n",
    ")\n"
   ]
  },
  {
   "cell_type": "code",
   "execution_count": 5,
   "id": "558725b0-ebdb-47f4-aa29-29a508b9b869",
   "metadata": {},
   "outputs": [
    {
     "name": "stdout",
     "output_type": "stream",
     "text": [
      "INFO:great_expectations.data_context.data_context.context_factory:Could not find local file-backed GX project\n",
      "INFO:great_expectations.data_context.types.base:Created temporary directory '/tmp/tmplonag1tj' for ephemeral docs site\n",
      "INFO:great_expectations.datasource.fluent.config:Loading 'datasources' ->\n",
      "[]\n"
     ]
    }
   ],
   "source": [
    "validator = snapshot.get_validator()\n"
   ]
  },
  {
   "cell_type": "markdown",
   "id": "f6b3a3d3-8f54-4fef-8204-ac9758fb0be2",
   "metadata": {},
   "source": [
    "Now create expectations about our dataset.\n",
    "\n",
    "The full list of available expectations are here; [https://greatexpectations.io/expectations/](https://greatexpectations.io/expectations/)"
   ]
  },
  {
   "cell_type": "code",
   "execution_count": 6,
   "id": "f90da659-4bd1-4ae9-a4ce-149546f12d42",
   "metadata": {},
   "outputs": [
    {
     "data": {
      "text/plain": [
       "{\n",
       "  \"success\": null,\n",
       "  \"result\": {},\n",
       "  \"meta\": {},\n",
       "  \"exception_info\": {\n",
       "    \"raised_exception\": false,\n",
       "    \"exception_traceback\": null,\n",
       "    \"exception_message\": null\n",
       "  }\n",
       "}"
      ]
     },
     "execution_count": 6,
     "metadata": {},
     "output_type": "execute_result"
    }
   ],
   "source": [
    "validator.expect_column_values_to_not_be_null(\"age\")\n",
    "validator.expect_column_values_to_be_between(\"age\", min_value=0, max_value=70)\n"
   ]
  },
  {
   "cell_type": "code",
   "execution_count": 7,
   "id": "3ce98725-1acd-4f80-9a2d-2fa9e625c5c5",
   "metadata": {},
   "outputs": [
    {
     "name": "stdout",
     "output_type": "stream",
     "text": [
      "INFO:etiq.pipeline.DataPipeline0980:Starting pipeline\n",
      "INFO:great_expectations.validator.validator:\t2 expectation(s) included in expectation_suite.\n",
      "INFO:etiq.pipeline.DataPipeline0980:Running Great Expectation scans\n",
      "INFO:great_expectations.validator.validator:\t2 expectation(s) included in expectation_suite.\n"
     ]
    },
    {
     "data": {
      "application/vnd.jupyter.widget-view+json": {
       "model_id": "53a5fe7bd4714ec99351accea304b991",
       "version_major": 2,
       "version_minor": 0
      },
      "text/plain": [
       "Calculating Metrics:   0%|          | 0/13 [00:00<?, ?it/s]"
      ]
     },
     "metadata": {},
     "output_type": "display_data"
    },
    {
     "name": "stdout",
     "output_type": "stream",
     "text": [
      "INFO:etiq.pipeline.DataPipeline0980:Completed pipeline\n"
     ]
    }
   ],
   "source": [
    "# Run the expectations as an ETIQ scan;\n",
    "\n",
    "segments, issues, aggregates = snapshot.scan_expectations(validator)\n"
   ]
  },
  {
   "cell_type": "code",
   "execution_count": 9,
   "id": "04c61253-773e-49cb-abfd-9ee86d8b4d8a",
   "metadata": {},
   "outputs": [
    {
     "name": "stdout",
     "output_type": "stream",
     "text": [
      "                                  name metric measure features segments  \\\n",
      "0  expect_column_values_to_not_be_null   None    None    {age}       {}   \n",
      "1   expect_column_values_to_be_between   None    None    {age}    {all}   \n",
      "\n",
      "   total_issues_tested  issues_found   threshold  \n",
      "0                    1             0  (0.0, 1.0)  \n",
      "1                    1             1  (0.0, 1.0)  \n",
      "                                 name feature segment measure  measure_value  \\\n",
      "0  expect_column_values_to_be_between     age     all    None            NaN   \n",
      "\n",
      "  metric  metric_value threshold value record  \n",
      "0   None           NaN   (0, 70)  None   None  \n",
      "                                  name metric measure features segments  \\\n",
      "0  expect_column_values_to_not_be_null   None    None    {age}       {}   \n",
      "1   expect_column_values_to_be_between   None    None    {age}    {all}   \n",
      "\n",
      "   total_issues_tested  issues_found   threshold  \n",
      "0                    1             0  (0.0, 1.0)  \n",
      "1                    1             1  (0.0, 1.0)  \n"
     ]
    }
   ],
   "source": [
    "# Results?\n",
    "print(aggregates)\n",
    "print(issues)\n",
    "print(aggregates)\n"
   ]
  }
 ],
 "metadata": {
  "kernelspec": {
   "display_name": "Python 3 (ipykernel)",
   "language": "python",
   "name": "python3"
  },
  "language_info": {
   "codemirror_mode": {
    "name": "ipython",
    "version": 3
   },
   "file_extension": ".py",
   "mimetype": "text/x-python",
   "name": "python",
   "nbconvert_exporter": "python",
   "pygments_lexer": "ipython3",
   "version": "3.10.13"
  }
 },
 "nbformat": 4,
 "nbformat_minor": 5
}
