{
 "cells": [
  {
   "cell_type": "markdown",
   "metadata": {},
   "source": [
    "# Notebook Summary \n",
    "\n",
    "\n",
    "### Quickstart\n",
    "\n",
    "  1. Import etiq library - for install please check our docs (https://docs.etiq.ai/) \n",
    "\n",
    "  2. Login to the dashboard - this way you can send the results to your dashboard instance (Etiq AWS instance if you use the SaaS version). To deploy on your own cloud instance, get in touch (info@etiq.ai)\n",
    "\n",
    "  3. Create or open a project \n",
    "  \n",
    "  \n",
    "  \n",
    "### Snapshot 1, already-trained model \n",
    "\n",
    "\n",
    "  7. Load Adult dataset\n",
    "  \n",
    "  8. Train a model \n",
    "  \n",
    "  9. Load your config file and create your snapshot using the test dataset only \n",
    "  \n",
    "  10. Scan for accuracy rca issues \n",
    "  \n",
    " \n",
    "  "
   ]
  },
  {
   "cell_type": "markdown",
   "metadata": {},
   "source": [
    "## What are Accuracy RCA scans?\n",
    "\n",
    "Some scans are simple tests that show whether a metric for an entire sample dataset is above or below certain thresholds set by the user. Other scans are more complex and look at whether a metric for only a part of the sample dataset is below or above the threshold. This will help you discover segments of customers or groups of records for which the model has a lower than expected accuracy or groups for which bias thresholds are not met.\n",
    "\n",
    "##### Imagine if your accuracy metrics tests have picked up issues, this test finds out exactly which segment has the issue, which should help you fix it sooner. \n",
    "\n",
    "If only a part of the data drifted or only a segment is underperforming, your overall tests might not pick up on it, but this test would. While you can pre-set segments you are interested in, if you just run the scan as is, it will discover problematic segments on its own.\n",
    "\n",
    "\n",
    "The RCA accuracy scans so far provide 3 metrics out-of-the-box:\n",
    "\n",
    "1. Accuracy - % correct out of total \n",
    "\n",
    "2. True Positive Rate - the proportion positive outcome labels that are correctly classified out of all positive outcome labels\n",
    "\n",
    "3. True Negative Rate -  the proportion negative outcome labels that are correctly classified out of all negative outcome labels\n"
   ]
  },
  {
   "cell_type": "markdown",
   "metadata": {},
   "source": [
    " "
   ]
  },
  {
   "cell_type": "markdown",
   "metadata": {},
   "source": [
    "# SET-UP"
   ]
  },
  {
   "cell_type": "code",
   "execution_count": 1,
   "metadata": {},
   "outputs": [
    {
     "name": "stdout",
     "output_type": "stream",
     "text": [
      "Thanks for trying out the ETIQ.ai toolkit!\n",
      "\n",
      "Visit our getting started documentation at https://docs.etiq.ai/\n",
      "\n",
      "Visit our Slack channel at https://etiqcore.slack.com/ for support or feedback.\n",
      "\n"
     ]
    }
   ],
   "source": [
    "import etiq\n",
    "\n",
    "#!pip install Jinja2\n",
    "#import Jinja2\n"
   ]
  },
  {
   "cell_type": "code",
   "execution_count": 2,
   "id": "32221545",
   "metadata": {},
   "outputs": [],
   "source": [
    "# styling the issue_summary + segments_accuracy_rca\n",
    "\n",
    "def metric_format(v):\n",
    "    if v is not None:\n",
    "        return v.__name__\n",
    "    else:\n",
    "        return v\n",
    "\n",
    "def threshold_format(v):\n",
    "    return f'{v[0]} - {v[1]}'\n",
    "\n",
    "def set_format(v):\n",
    "    if len(v) == 0:\n",
    "        return 'None'\n",
    "    return f'{v}'\n",
    "\n",
    "def highlight_rows(row):\n",
    "    value = row.loc['issues_found']\n",
    "    if value > 0:\n",
    "        color = '#FFB3BA' # Red\n",
    "    else:\n",
    "        color = '#BAFFC9' # Green\n",
    "    return ['background-color: {}'.format(color) for r in row]\n",
    "\n",
    "def backround_first_column(col):\n",
    "    color = 'white'\n",
    "    return ['background-color: {}'.format(color) for c in col]\n",
    "\n",
    "def font_color(v):\n",
    "    color = 'black'\n",
    "    # if v:\n",
    "    #     color = 'blue'\n",
    "    return 'color: %s' % color\n",
    "\n",
    "def issue_summary_pretty(styler):\n",
    "    styler.format(metric_format, subset=['metric', 'measure'])\n",
    "    styler.format(threshold_format, subset=['threshold'])\n",
    "    styler.format(set_format, subset=['features', 'segments'])\n",
    "    styler.hide(axis=\"index\")\n",
    "    styler.apply(highlight_rows, axis=1)\n",
    "    styler.apply(backround_first_column, axis='columns', subset=['name'])\n",
    "    styler.applymap(font_color)\n",
    "    styler.set_caption(\"Issues Summary\")\n",
    "    return styler \n",
    "\n",
    "def list_of_segments(summary):\n",
    "    segments = summary[\"segment\"]\n",
    "    seg_list = []\n",
    "    for elem in segments:\n",
    "        if elem in seg_list:\n",
    "            continue\n",
    "        else:\n",
    "            seg_list.append(elem)\n",
    "    return seg_list\n",
    "\n",
    "def issues_accuracy_rca_pretty(styler):\n",
    "    styler.hide(axis=\"index\")\n",
    "    # styler.apply(backround_first_column, axis='columns', subset=['name'])\n",
    "    # styler.applymap(font_color)\n",
    "    styler.set_caption(\"Issues Accuracy RCA\")\n",
    "    styler.set_properties(**{'background-color': 'white',\n",
    "                           'color': 'black'})\n",
    "    return styler\n"
   ]
  },
  {
   "cell_type": "code",
   "execution_count": 3,
   "metadata": {},
   "outputs": [],
   "source": [
    "from etiq import login as etiq_login\n",
    "#etiq_login(\"https://dashboard.etiq.ai/\", \"<token>\")"
   ]
  },
  {
   "cell_type": "code",
   "execution_count": 4,
   "metadata": {},
   "outputs": [],
   "source": [
    "# Can get/create a single named project\n",
    "project = etiq.projects.open(name=\"Accuracy RCA Scans\")"
   ]
  },
  {
   "cell_type": "markdown",
   "metadata": {},
   "source": [
    " "
   ]
  },
  {
   "cell_type": "markdown",
   "metadata": {},
   "source": [
    "# SNAPSHOT 1: xgboost, pre-configured model\n"
   ]
  },
  {
   "cell_type": "markdown",
   "metadata": {},
   "source": [
    "To illustrate some of the library's features, we build a model that predicts whether an applicant makes over or under 50K using the Adult dataset from https://archive.ics.uci.edu/ml/datasets/adult.\n",
    "\n",
    "\n",
    "First, we'll be encoding the categorical features found in this dataset.\n",
    "\n",
    "Second, we'll log the dataset to Etiq.\n",
    "\n",
    "In this case we encode prior to splitting into test/train/validate because we know in advance the categories people fall into for this dataset. This means that in production we won't run into new categories that will fall into a bucket not included in this dataset, This allows us to encode prior to splitting into train/test/validation.\n",
    "\n",
    "However if this is not the case for your use case, you should NOT encode prior to splitting your sample, as this might lead to LEAKAGE. Encoding categorical values itself is problematic as it assigns a numerical ranking to categorical variables. For best practice encoding use one hot encoding. This is for example purposes\n",
    "\n",
    "Once our model is built, we will:\n",
    " - Log the relevant config to etiq \n",
    " - Log the model together with the hold-out sample to etiq\n",
    " - Run the Accuracy RCA scan\n",
    "\n"
   ]
  },
  {
   "cell_type": "markdown",
   "metadata": {},
   "source": [
    "## Model Build "
   ]
  },
  {
   "cell_type": "code",
   "execution_count": 5,
   "metadata": {},
   "outputs": [
    {
     "data": {
      "text/html": [
       "<div>\n",
       "<style scoped>\n",
       "    .dataframe tbody tr th:only-of-type {\n",
       "        vertical-align: middle;\n",
       "    }\n",
       "\n",
       "    .dataframe tbody tr th {\n",
       "        vertical-align: top;\n",
       "    }\n",
       "\n",
       "    .dataframe thead th {\n",
       "        text-align: right;\n",
       "    }\n",
       "</style>\n",
       "<table border=\"1\" class=\"dataframe\">\n",
       "  <thead>\n",
       "    <tr style=\"text-align: right;\">\n",
       "      <th></th>\n",
       "      <th>age</th>\n",
       "      <th>workclass</th>\n",
       "      <th>fnlwgt</th>\n",
       "      <th>education</th>\n",
       "      <th>educational-num</th>\n",
       "      <th>marital-status</th>\n",
       "      <th>occupation</th>\n",
       "      <th>relationship</th>\n",
       "      <th>race</th>\n",
       "      <th>gender</th>\n",
       "      <th>capital-gain</th>\n",
       "      <th>capital-loss</th>\n",
       "      <th>hours-per-week</th>\n",
       "      <th>native-country</th>\n",
       "      <th>income</th>\n",
       "    </tr>\n",
       "  </thead>\n",
       "  <tbody>\n",
       "    <tr>\n",
       "      <th>0</th>\n",
       "      <td>25</td>\n",
       "      <td>Private</td>\n",
       "      <td>226802</td>\n",
       "      <td>11th</td>\n",
       "      <td>7</td>\n",
       "      <td>Never-married</td>\n",
       "      <td>Machine-op-inspct</td>\n",
       "      <td>Own-child</td>\n",
       "      <td>Black</td>\n",
       "      <td>Male</td>\n",
       "      <td>0</td>\n",
       "      <td>0</td>\n",
       "      <td>40</td>\n",
       "      <td>United-States</td>\n",
       "      <td>&lt;=50K</td>\n",
       "    </tr>\n",
       "    <tr>\n",
       "      <th>1</th>\n",
       "      <td>38</td>\n",
       "      <td>Private</td>\n",
       "      <td>89814</td>\n",
       "      <td>HS-grad</td>\n",
       "      <td>9</td>\n",
       "      <td>Married-civ-spouse</td>\n",
       "      <td>Farming-fishing</td>\n",
       "      <td>Husband</td>\n",
       "      <td>White</td>\n",
       "      <td>Male</td>\n",
       "      <td>0</td>\n",
       "      <td>0</td>\n",
       "      <td>50</td>\n",
       "      <td>United-States</td>\n",
       "      <td>&lt;=50K</td>\n",
       "    </tr>\n",
       "    <tr>\n",
       "      <th>2</th>\n",
       "      <td>28</td>\n",
       "      <td>Local-gov</td>\n",
       "      <td>336951</td>\n",
       "      <td>Assoc-acdm</td>\n",
       "      <td>12</td>\n",
       "      <td>Married-civ-spouse</td>\n",
       "      <td>Protective-serv</td>\n",
       "      <td>Husband</td>\n",
       "      <td>White</td>\n",
       "      <td>Male</td>\n",
       "      <td>0</td>\n",
       "      <td>0</td>\n",
       "      <td>40</td>\n",
       "      <td>United-States</td>\n",
       "      <td>&gt;50K</td>\n",
       "    </tr>\n",
       "    <tr>\n",
       "      <th>3</th>\n",
       "      <td>44</td>\n",
       "      <td>Private</td>\n",
       "      <td>160323</td>\n",
       "      <td>Some-college</td>\n",
       "      <td>10</td>\n",
       "      <td>Married-civ-spouse</td>\n",
       "      <td>Machine-op-inspct</td>\n",
       "      <td>Husband</td>\n",
       "      <td>Black</td>\n",
       "      <td>Male</td>\n",
       "      <td>7688</td>\n",
       "      <td>0</td>\n",
       "      <td>40</td>\n",
       "      <td>United-States</td>\n",
       "      <td>&gt;50K</td>\n",
       "    </tr>\n",
       "    <tr>\n",
       "      <th>4</th>\n",
       "      <td>18</td>\n",
       "      <td>?</td>\n",
       "      <td>103497</td>\n",
       "      <td>Some-college</td>\n",
       "      <td>10</td>\n",
       "      <td>Never-married</td>\n",
       "      <td>?</td>\n",
       "      <td>Own-child</td>\n",
       "      <td>White</td>\n",
       "      <td>Female</td>\n",
       "      <td>0</td>\n",
       "      <td>0</td>\n",
       "      <td>30</td>\n",
       "      <td>United-States</td>\n",
       "      <td>&lt;=50K</td>\n",
       "    </tr>\n",
       "  </tbody>\n",
       "</table>\n",
       "</div>"
      ],
      "text/plain": [
       "   age  workclass  fnlwgt     education  educational-num      marital-status  \\\n",
       "0   25    Private  226802          11th                7       Never-married   \n",
       "1   38    Private   89814       HS-grad                9  Married-civ-spouse   \n",
       "2   28  Local-gov  336951    Assoc-acdm               12  Married-civ-spouse   \n",
       "3   44    Private  160323  Some-college               10  Married-civ-spouse   \n",
       "4   18          ?  103497  Some-college               10       Never-married   \n",
       "\n",
       "          occupation relationship   race  gender  capital-gain  capital-loss  \\\n",
       "0  Machine-op-inspct    Own-child  Black    Male             0             0   \n",
       "1    Farming-fishing      Husband  White    Male             0             0   \n",
       "2    Protective-serv      Husband  White    Male             0             0   \n",
       "3  Machine-op-inspct      Husband  Black    Male          7688             0   \n",
       "4                  ?    Own-child  White  Female             0             0   \n",
       "\n",
       "   hours-per-week native-country income  \n",
       "0              40  United-States  <=50K  \n",
       "1              50  United-States  <=50K  \n",
       "2              40  United-States   >50K  \n",
       "3              40  United-States   >50K  \n",
       "4              30  United-States  <=50K  "
      ]
     },
     "execution_count": 5,
     "metadata": {},
     "output_type": "execute_result"
    }
   ],
   "source": [
    "import pandas as pd\n",
    "import numpy as np\n",
    "from sklearn.linear_model import LogisticRegression\n",
    "from xgboost.sklearn import XGBClassifier\n",
    "from sklearn.ensemble import RandomForestClassifier\n",
    "from sklearn.preprocessing import LabelEncoder\n",
    "from sklearn.model_selection import train_test_split\n",
    "from sklearn.metrics import accuracy_score\n",
    "import warnings\n",
    "warnings.filterwarnings('ignore')\n",
    "\n",
    "# Loading a dataset. We're using the adult dataset\n",
    "data = etiq.utils.load_sample(\"adultdataset.csv\")\n",
    "data.head()\n",
    "\n"
   ]
  },
  {
   "cell_type": "code",
   "execution_count": 6,
   "metadata": {},
   "outputs": [],
   "source": [
    "# use a LabelEncoder to transform categorical variables\n",
    "cont_vars = ['age', 'educational-num', 'fnlwgt', 'capital-gain', 'capital-loss', 'hours-per-week']\n",
    "cat_vars = list(set(data.columns.values) - set(cont_vars))\n",
    "\n",
    "label_encoders = {}\n",
    "data_encoded = pd.DataFrame()\n",
    "for i in cat_vars:\n",
    "    label = LabelEncoder()\n",
    "    data_encoded[i] = label.fit_transform(data[i])\n",
    "    label_encoders[i] = label\n",
    "\n",
    "data_encoded.set_index(data.index, inplace=True)\n",
    "data_encoded = pd.concat([data.loc[:, cont_vars], data_encoded], axis=1).copy()\n",
    "\n"
   ]
  },
  {
   "cell_type": "code",
   "execution_count": 7,
   "metadata": {},
   "outputs": [],
   "source": [
    "# prepare the training/testing/validation datasets\n",
    "\n",
    "# separate into train/validate/test dataset of sizes 80%/10%/10% as percetages of the initial data\n",
    "data_remaining, test = train_test_split(data_encoded, test_size=0.1)\n",
    "train, valid = train_test_split(data_remaining, test_size=0.1112)\n",
    "\n",
    "# because we don't want to train on protected attributes or labels to be predicted, \n",
    "# let's remove these columns from the training dataset\n",
    "protected_train = train['gender'].copy() # gender is a protected attribute\n",
    "y_train = train['income'].copy() # labels we're going to train the model to predict\n",
    "x_train = train.drop(columns=['gender','income'])\n",
    "protected_valid = valid['gender'].copy() \n",
    "y_valid = valid['income'].copy() \n",
    "x_valid = valid.drop(columns=['gender','income'])\n",
    "protected_test = test['gender'].copy() \n",
    "y_test = test['income'].copy()\n",
    "x_test = test.drop(columns=['gender','income'])"
   ]
  },
  {
   "cell_type": "code",
   "execution_count": 8,
   "metadata": {},
   "outputs": [],
   "source": [
    "# train a XGBoost model to predict 'income'\n",
    "\n",
    "standard_model = XGBClassifier(use_label_encoder=False, eval_metric='logloss', random_state=4)    \n",
    "model_fit = standard_model.fit(x_train, y_train)"
   ]
  },
  {
   "cell_type": "code",
   "execution_count": 9,
   "metadata": {},
   "outputs": [
    {
     "name": "stdout",
     "output_type": "stream",
     "text": [
      "Model accuracy on the training dataset : 90.1 %\n",
      "Model accuracy on the validation dataset : 87.15 %\n"
     ]
    }
   ],
   "source": [
    "y_train_pred = standard_model.predict(x_train)\n",
    "y_valid_pred = standard_model.predict(x_valid)\n",
    "print('Model accuracy on the training dataset :', \n",
    "      round(100 * accuracy_score(y_train, y_train_pred),2),'%') # round the score to 2 digits  \n",
    "\n",
    "print('Model accuracy on the validation dataset :', \n",
    "      round(100 * accuracy_score(y_valid, y_valid_pred),2),'%')"
   ]
  },
  {
   "cell_type": "markdown",
   "metadata": {},
   "source": [
    "## Adding a Custom Metric"
   ]
  },
  {
   "cell_type": "markdown",
   "metadata": {},
   "source": [
    "The etiq librabry has three inbuilt accuracy metrics i.e. accuracy, true_pos_rate (true positive rate), and true_neg_rate (true negative rate). However, it is easy to create custom accuracy metrics and use them with an accuracy scan.\n",
    "\n",
    "For example, F-score is an accuracy metric calculated from precision and recall (see https://en.wikipedia.org/wiki/F-score for more information). This can be set up as a custom accuracy metric using a set of python decorators evailable in the etiq librbary\n",
    "\n",
    "NB: Decorators operate from bottom to top. Keep this in mind when adding your own custom metric."
   ]
  },
  {
   "cell_type": "code",
   "execution_count": 10,
   "metadata": {},
   "outputs": [],
   "source": [
    "@etiq.metrics.accuracy_metric\n",
    "@etiq.custom_metric\n",
    "@etiq.actual_values(\"actual\")\n",
    "@etiq.prediction_values(\"predictions\")\n",
    "@etiq.positive_outcome(\"positive_outcome_label\")\n",
    "@etiq.negative_outcome(\"negative_outcome_label\")\n",
    "\n",
    "def f_score(predictions, actual, positive_outcome_label, negative_outcome_label):\n",
    "    true_pos = sum((predictions == actual) & (actual == positive_outcome_label))\n",
    "    false_pos = sum((predictions != actual) & (actual == positive_outcome_label))\n",
    "    false_neg = sum((predictions != actual) & (actual == negative_outcome_label))\n",
    "    \n",
    "    return true_pos / (true_pos + 0.5*(false_pos + false_neg))"
   ]
  },
  {
   "cell_type": "markdown",
   "metadata": {},
   "source": [
    "## Log config, dataset and model to Etiq"
   ]
  },
  {
   "cell_type": "markdown",
   "metadata": {},
   "source": [
    "For already trained models make sure you only you use a sample you held out. \n",
    "\n",
    "As you don't want any retraining of the model to occur, set your train_valid_test split to [0.0, 1.0, 0.0]. \n",
    "\n",
    "In this instance we have used a low volume for the minimum segment size to illustrate the issues, but you should probably set it higher, depending on your use case and sample size. Also we have set the threshold for accuracy high so as to make sure it finds at least one issue."
   ]
  },
  {
   "cell_type": "code",
   "execution_count": 11,
   "metadata": {},
   "outputs": [
    {
     "name": "stdout",
     "output_type": "stream",
     "text": [
      "INFO:etiq.charting:Created histogram summary of data (15 fields)\n",
      "Running Accuracy Scan... \n",
      "\n",
      "WARNING:etiq.pipeline.AccuracyMetricsIssuePipeline0514:Warning: potential data leak. You are evaluating a fitted model. If you use the same dataset that you used to train the model and you pass on just the training/validation/test split without passing on which was your validation dataset when you fitted the model, some observations that were previously in train can now be in test - which can skew your results\n",
      "WARNING:etiq.pipeline.AccuracyMetricsIssuePipeline0514:Etiq removed the column encoding the protected attribute values from the dataset. The models are fitted and metrics are computed on a dataset without the protected attribute column. The protected attribute values can be found in the protected_train or protected_valid fields of each dataset\n",
      "INFO:etiq.pipeline.AccuracyMetricsIssuePipeline0514:Starting pipeline\n",
      "INFO:etiq.pipeline.AccuracyMetricsIssuePipeline0514:Computed acurracy metrics for the dataset {'accuracy': 0.87, 'true_pos_rate': 0.6591107236268526, 'true_neg_rate': 0.9355270197966827, 'f_score': 0.7052238805970149}\n",
      "INFO:etiq.pipeline.AccuracyMetricsIssuePipeline0514:Issue Aggregate = {'accuracy_below_threshold': IssueAggregate(name='accuracy_below_threshold', metric=<compiled_function accuracy at 0x14eb9bf10>, measure=None, features=set(), segments=set(), total_issues_tested=0, issues_found=0, threshold=(0.0, 1.0)), 'true_pos_rate_below_threshold': IssueAggregate(name='true_pos_rate_below_threshold', metric=<compiled_function true_pos_rate at 0x14ec54040>, measure=None, features=set(), segments=set(), total_issues_tested=0, issues_found=0, threshold=(0.0, 1.0)), 'true_neg_rate_below_threshold': IssueAggregate(name='true_neg_rate_below_threshold', metric=<compiled_function true_neg_rate at 0x14ec54130>, measure=None, features=set(), segments=set(), total_issues_tested=0, issues_found=0, threshold=(0.0, 1.0)), 'f_score_below_threshold': IssueAggregate(name='f_score_below_threshold', metric=<compiled_function f_score at 0x14ff5d540>, measure=None, features=set(), segments=set(), total_issues_tested=0, issues_found=0, threshold=(0.0, 1.0))}\n",
      "INFO:etiq.pipeline.AccuracyMetricsIssuePipeline0514:Threshold (0.8, 1.0)\n",
      "INFO:etiq.pipeline.AccuracyMetricsIssuePipeline0514:Threshold (0.75, 1.0)\n",
      "INFO:etiq.pipeline.AccuracyMetricsIssuePipeline0514:Threshold (0.7, 1.0)\n",
      "INFO:etiq.pipeline.AccuracyMetricsIssuePipeline0514:Threshold (0.5, 1.0)\n",
      "INFO:etiq.pipeline.AccuracyMetricsIssuePipeline0514:Completed pipeline\n",
      "\n",
      " Running RCA Accuracy Scan... \n",
      "\n",
      "INFO:etiq.pipeline.IdentifyPipeline0414:Starting pipeline\n",
      "INFO:etiq.pipeline.IdentifyPipeline0414:Metric = accuracy\n",
      "INFO:etiq.pipeline.IdentifyPipeline0414:Searching for segments below the threshold 0.8\n",
      "INFO:etiq.pipeline.IdentifyPipeline0414:Metric = true_pos_rate\n",
      "INFO:etiq.pipeline.IdentifyPipeline0414:Searching for segments below the threshold 0.7\n",
      "INFO:etiq.pipeline.IdentifyPipeline0414:Completed pipeline\n"
     ]
    }
   ],
   "source": [
    "from etiq import Model\n",
    "\n",
    "with etiq.etiq_config(\"./config_rca_accuracy.json\"):\n",
    "    #log your dataset (the sample you held-out!!!)\n",
    "    dataset = etiq.BiasDatasetBuilder.dataset(test)\n",
    "    \n",
    "    #Log your already trained model\n",
    "\n",
    "    model = Model(model_architecture=standard_model, model_fitted=model_fit)\n",
    "    \n",
    "    # Create the snapshot\n",
    "    snapshot = project.snapshots.create(name=\"Snapshot 1\", \n",
    "                                        dataset=dataset,\n",
    "                                        model=model, \n",
    "                                        bias_params=etiq.biasparams.BiasParams(protected='gender', \n",
    "                                                                               privileged=1, \n",
    "                                                                               unprivileged=0, \n",
    "                                                                               positive_outcome_label=1, \n",
    "                                                                               negative_outcome_label=0)\n",
    "                                       )\n",
    "    print(\"Running Accuracy Scan... \\n\")\n",
    "    (segments_accuracy, issues_accuracy, issue_summary_accuracy) = snapshot.scan_accuracy_metrics()\n",
    "    print(\"\\n Running RCA Accuracy Scan... \\n\")\n",
    "    (segments_accuracy_rca, issues_accuracy_rca, issue_summary_accuracy_rca)  = snapshot.scan_accuracy_metrics_rca()"
   ]
  },
  {
   "cell_type": "code",
   "execution_count": 12,
   "metadata": {},
   "outputs": [
    {
     "data": {
      "text/html": [
       "<style type=\"text/css\">\n",
       "#T_aa7dc_row0_col0, #T_aa7dc_row2_col0, #T_aa7dc_row3_col0 {\n",
       "  background-color: #BAFFC9;\n",
       "  background-color: white;\n",
       "  color: black;\n",
       "}\n",
       "#T_aa7dc_row0_col1, #T_aa7dc_row0_col2, #T_aa7dc_row0_col3, #T_aa7dc_row0_col4, #T_aa7dc_row0_col5, #T_aa7dc_row0_col6, #T_aa7dc_row0_col7, #T_aa7dc_row2_col1, #T_aa7dc_row2_col2, #T_aa7dc_row2_col3, #T_aa7dc_row2_col4, #T_aa7dc_row2_col5, #T_aa7dc_row2_col6, #T_aa7dc_row2_col7, #T_aa7dc_row3_col1, #T_aa7dc_row3_col2, #T_aa7dc_row3_col3, #T_aa7dc_row3_col4, #T_aa7dc_row3_col5, #T_aa7dc_row3_col6, #T_aa7dc_row3_col7 {\n",
       "  background-color: #BAFFC9;\n",
       "  color: black;\n",
       "}\n",
       "#T_aa7dc_row1_col0 {\n",
       "  background-color: #FFB3BA;\n",
       "  background-color: white;\n",
       "  color: black;\n",
       "}\n",
       "#T_aa7dc_row1_col1, #T_aa7dc_row1_col2, #T_aa7dc_row1_col3, #T_aa7dc_row1_col4, #T_aa7dc_row1_col5, #T_aa7dc_row1_col6, #T_aa7dc_row1_col7 {\n",
       "  background-color: #FFB3BA;\n",
       "  color: black;\n",
       "}\n",
       "</style>\n",
       "<table id=\"T_aa7dc\">\n",
       "  <caption>Issues Summary</caption>\n",
       "  <thead>\n",
       "    <tr>\n",
       "      <th id=\"T_aa7dc_level0_col0\" class=\"col_heading level0 col0\" >name</th>\n",
       "      <th id=\"T_aa7dc_level0_col1\" class=\"col_heading level0 col1\" >metric</th>\n",
       "      <th id=\"T_aa7dc_level0_col2\" class=\"col_heading level0 col2\" >measure</th>\n",
       "      <th id=\"T_aa7dc_level0_col3\" class=\"col_heading level0 col3\" >features</th>\n",
       "      <th id=\"T_aa7dc_level0_col4\" class=\"col_heading level0 col4\" >segments</th>\n",
       "      <th id=\"T_aa7dc_level0_col5\" class=\"col_heading level0 col5\" >total_issues_tested</th>\n",
       "      <th id=\"T_aa7dc_level0_col6\" class=\"col_heading level0 col6\" >issues_found</th>\n",
       "      <th id=\"T_aa7dc_level0_col7\" class=\"col_heading level0 col7\" >threshold</th>\n",
       "    </tr>\n",
       "  </thead>\n",
       "  <tbody>\n",
       "    <tr>\n",
       "      <td id=\"T_aa7dc_row0_col0\" class=\"data row0 col0\" >accuracy_below_threshold</td>\n",
       "      <td id=\"T_aa7dc_row0_col1\" class=\"data row0 col1\" >accuracy</td>\n",
       "      <td id=\"T_aa7dc_row0_col2\" class=\"data row0 col2\" >None</td>\n",
       "      <td id=\"T_aa7dc_row0_col3\" class=\"data row0 col3\" >None</td>\n",
       "      <td id=\"T_aa7dc_row0_col4\" class=\"data row0 col4\" >None</td>\n",
       "      <td id=\"T_aa7dc_row0_col5\" class=\"data row0 col5\" >1</td>\n",
       "      <td id=\"T_aa7dc_row0_col6\" class=\"data row0 col6\" >0</td>\n",
       "      <td id=\"T_aa7dc_row0_col7\" class=\"data row0 col7\" >0.5 - 1.0</td>\n",
       "    </tr>\n",
       "    <tr>\n",
       "      <td id=\"T_aa7dc_row1_col0\" class=\"data row1 col0\" >true_pos_rate_below_threshold</td>\n",
       "      <td id=\"T_aa7dc_row1_col1\" class=\"data row1 col1\" >true_pos_rate</td>\n",
       "      <td id=\"T_aa7dc_row1_col2\" class=\"data row1 col2\" >None</td>\n",
       "      <td id=\"T_aa7dc_row1_col3\" class=\"data row1 col3\" >None</td>\n",
       "      <td id=\"T_aa7dc_row1_col4\" class=\"data row1 col4\" >{'all'}</td>\n",
       "      <td id=\"T_aa7dc_row1_col5\" class=\"data row1 col5\" >1</td>\n",
       "      <td id=\"T_aa7dc_row1_col6\" class=\"data row1 col6\" >1</td>\n",
       "      <td id=\"T_aa7dc_row1_col7\" class=\"data row1 col7\" >0.5 - 1.0</td>\n",
       "    </tr>\n",
       "    <tr>\n",
       "      <td id=\"T_aa7dc_row2_col0\" class=\"data row2 col0\" >true_neg_rate_below_threshold</td>\n",
       "      <td id=\"T_aa7dc_row2_col1\" class=\"data row2 col1\" >true_neg_rate</td>\n",
       "      <td id=\"T_aa7dc_row2_col2\" class=\"data row2 col2\" >None</td>\n",
       "      <td id=\"T_aa7dc_row2_col3\" class=\"data row2 col3\" >None</td>\n",
       "      <td id=\"T_aa7dc_row2_col4\" class=\"data row2 col4\" >None</td>\n",
       "      <td id=\"T_aa7dc_row2_col5\" class=\"data row2 col5\" >1</td>\n",
       "      <td id=\"T_aa7dc_row2_col6\" class=\"data row2 col6\" >0</td>\n",
       "      <td id=\"T_aa7dc_row2_col7\" class=\"data row2 col7\" >0.5 - 1.0</td>\n",
       "    </tr>\n",
       "    <tr>\n",
       "      <td id=\"T_aa7dc_row3_col0\" class=\"data row3 col0\" >f_score_below_threshold</td>\n",
       "      <td id=\"T_aa7dc_row3_col1\" class=\"data row3 col1\" >f_score</td>\n",
       "      <td id=\"T_aa7dc_row3_col2\" class=\"data row3 col2\" >None</td>\n",
       "      <td id=\"T_aa7dc_row3_col3\" class=\"data row3 col3\" >None</td>\n",
       "      <td id=\"T_aa7dc_row3_col4\" class=\"data row3 col4\" >None</td>\n",
       "      <td id=\"T_aa7dc_row3_col5\" class=\"data row3 col5\" >1</td>\n",
       "      <td id=\"T_aa7dc_row3_col6\" class=\"data row3 col6\" >0</td>\n",
       "      <td id=\"T_aa7dc_row3_col7\" class=\"data row3 col7\" >0.5 - 1.0</td>\n",
       "    </tr>\n",
       "  </tbody>\n",
       "</table>\n"
      ],
      "text/plain": [
       "<pandas.io.formats.style.Styler at 0x14ffef100>"
      ]
     },
     "execution_count": 12,
     "metadata": {},
     "output_type": "execute_result"
    }
   ],
   "source": [
    "# issue_summary_accuracy\n",
    "\n",
    "issue_summary_accuracy.style.pipe(issue_summary_pretty)"
   ]
  },
  {
   "cell_type": "markdown",
   "metadata": {},
   "source": [
    " "
   ]
  },
  {
   "cell_type": "markdown",
   "metadata": {},
   "source": [
    " "
   ]
  },
  {
   "cell_type": "code",
   "execution_count": 13,
   "metadata": {},
   "outputs": [
    {
     "data": {
      "text/html": [
       "<style type=\"text/css\">\n",
       "#T_ea3a2_row0_col0, #T_ea3a2_row1_col0 {\n",
       "  background-color: #FFB3BA;\n",
       "  background-color: white;\n",
       "  color: black;\n",
       "}\n",
       "#T_ea3a2_row0_col1, #T_ea3a2_row0_col2, #T_ea3a2_row0_col3, #T_ea3a2_row0_col4, #T_ea3a2_row0_col5, #T_ea3a2_row0_col6, #T_ea3a2_row0_col7, #T_ea3a2_row1_col1, #T_ea3a2_row1_col2, #T_ea3a2_row1_col3, #T_ea3a2_row1_col4, #T_ea3a2_row1_col5, #T_ea3a2_row1_col6, #T_ea3a2_row1_col7 {\n",
       "  background-color: #FFB3BA;\n",
       "  color: black;\n",
       "}\n",
       "</style>\n",
       "<table id=\"T_ea3a2\">\n",
       "  <caption>Issues Summary</caption>\n",
       "  <thead>\n",
       "    <tr>\n",
       "      <th id=\"T_ea3a2_level0_col0\" class=\"col_heading level0 col0\" >name</th>\n",
       "      <th id=\"T_ea3a2_level0_col1\" class=\"col_heading level0 col1\" >metric</th>\n",
       "      <th id=\"T_ea3a2_level0_col2\" class=\"col_heading level0 col2\" >measure</th>\n",
       "      <th id=\"T_ea3a2_level0_col3\" class=\"col_heading level0 col3\" >features</th>\n",
       "      <th id=\"T_ea3a2_level0_col4\" class=\"col_heading level0 col4\" >segments</th>\n",
       "      <th id=\"T_ea3a2_level0_col5\" class=\"col_heading level0 col5\" >total_issues_tested</th>\n",
       "      <th id=\"T_ea3a2_level0_col6\" class=\"col_heading level0 col6\" >issues_found</th>\n",
       "      <th id=\"T_ea3a2_level0_col7\" class=\"col_heading level0 col7\" >threshold</th>\n",
       "    </tr>\n",
       "  </thead>\n",
       "  <tbody>\n",
       "    <tr>\n",
       "      <td id=\"T_ea3a2_row0_col0\" class=\"data row0 col0\" >accuracy_below_threshold</td>\n",
       "      <td id=\"T_ea3a2_row0_col1\" class=\"data row0 col1\" >accuracy</td>\n",
       "      <td id=\"T_ea3a2_row0_col2\" class=\"data row0 col2\" >None</td>\n",
       "      <td id=\"T_ea3a2_row0_col3\" class=\"data row0 col3\" >None</td>\n",
       "      <td id=\"T_ea3a2_row0_col4\" class=\"data row0 col4\" >{8}</td>\n",
       "      <td id=\"T_ea3a2_row0_col5\" class=\"data row0 col5\" >9</td>\n",
       "      <td id=\"T_ea3a2_row0_col6\" class=\"data row0 col6\" >1</td>\n",
       "      <td id=\"T_ea3a2_row0_col7\" class=\"data row0 col7\" >0.8 - 1.0</td>\n",
       "    </tr>\n",
       "    <tr>\n",
       "      <td id=\"T_ea3a2_row1_col0\" class=\"data row1 col0\" >true_pos_rate_below_threshold</td>\n",
       "      <td id=\"T_ea3a2_row1_col1\" class=\"data row1 col1\" >true_pos_rate</td>\n",
       "      <td id=\"T_ea3a2_row1_col2\" class=\"data row1 col2\" >None</td>\n",
       "      <td id=\"T_ea3a2_row1_col3\" class=\"data row1 col3\" >None</td>\n",
       "      <td id=\"T_ea3a2_row1_col4\" class=\"data row1 col4\" >{9}</td>\n",
       "      <td id=\"T_ea3a2_row1_col5\" class=\"data row1 col5\" >1</td>\n",
       "      <td id=\"T_ea3a2_row1_col6\" class=\"data row1 col6\" >1</td>\n",
       "      <td id=\"T_ea3a2_row1_col7\" class=\"data row1 col7\" >0.7 - 1.0</td>\n",
       "    </tr>\n",
       "  </tbody>\n",
       "</table>\n"
      ],
      "text/plain": [
       "<pandas.io.formats.style.Styler at 0x150382800>"
      ]
     },
     "execution_count": 13,
     "metadata": {},
     "output_type": "execute_result"
    }
   ],
   "source": [
    "# issue_summary_accuracy_rca\n",
    "\n",
    "issue_summary_accuracy_rca.style.pipe(issue_summary_pretty)"
   ]
  },
  {
   "cell_type": "code",
   "execution_count": null,
   "id": "425b00f4",
   "metadata": {},
   "outputs": [],
   "source": [
    "\n"
   ]
  },
  {
   "cell_type": "code",
   "execution_count": 14,
   "metadata": {},
   "outputs": [
    {
     "data": {
      "text/html": [
       "<style type=\"text/css\">\n",
       "#T_9a086_row0_col0, #T_9a086_row0_col1, #T_9a086_row0_col2, #T_9a086_row0_col3, #T_9a086_row0_col4, #T_9a086_row0_col5, #T_9a086_row0_col6, #T_9a086_row0_col7, #T_9a086_row0_col8, #T_9a086_row1_col0, #T_9a086_row1_col1, #T_9a086_row1_col2, #T_9a086_row1_col3, #T_9a086_row1_col4, #T_9a086_row1_col5, #T_9a086_row1_col6, #T_9a086_row1_col7, #T_9a086_row1_col8 {\n",
       "  background-color: white;\n",
       "  color: black;\n",
       "}\n",
       "</style>\n",
       "<table id=\"T_9a086\">\n",
       "  <caption>Issues Accuracy RCA</caption>\n",
       "  <thead>\n",
       "    <tr>\n",
       "      <th id=\"T_9a086_level0_col0\" class=\"col_heading level0 col0\" >name</th>\n",
       "      <th id=\"T_9a086_level0_col1\" class=\"col_heading level0 col1\" >feature</th>\n",
       "      <th id=\"T_9a086_level0_col2\" class=\"col_heading level0 col2\" >segment</th>\n",
       "      <th id=\"T_9a086_level0_col3\" class=\"col_heading level0 col3\" >measure</th>\n",
       "      <th id=\"T_9a086_level0_col4\" class=\"col_heading level0 col4\" >measure_value</th>\n",
       "      <th id=\"T_9a086_level0_col5\" class=\"col_heading level0 col5\" >metric</th>\n",
       "      <th id=\"T_9a086_level0_col6\" class=\"col_heading level0 col6\" >metric_value</th>\n",
       "      <th id=\"T_9a086_level0_col7\" class=\"col_heading level0 col7\" >threshold</th>\n",
       "      <th id=\"T_9a086_level0_col8\" class=\"col_heading level0 col8\" >value</th>\n",
       "    </tr>\n",
       "  </thead>\n",
       "  <tbody>\n",
       "    <tr>\n",
       "      <td id=\"T_9a086_row0_col0\" class=\"data row0 col0\" >accuracy_below_threshold</td>\n",
       "      <td id=\"T_9a086_row0_col1\" class=\"data row0 col1\" >None</td>\n",
       "      <td id=\"T_9a086_row0_col2\" class=\"data row0 col2\" >8</td>\n",
       "      <td id=\"T_9a086_row0_col3\" class=\"data row0 col3\" >None</td>\n",
       "      <td id=\"T_9a086_row0_col4\" class=\"data row0 col4\" >nan</td>\n",
       "      <td id=\"T_9a086_row0_col5\" class=\"data row0 col5\" ><compiled_function accuracy at 0x14eb9bf10></td>\n",
       "      <td id=\"T_9a086_row0_col6\" class=\"data row0 col6\" >0.760000</td>\n",
       "      <td id=\"T_9a086_row0_col7\" class=\"data row0 col7\" >[0.8, 1.0]</td>\n",
       "      <td id=\"T_9a086_row0_col8\" class=\"data row0 col8\" >None</td>\n",
       "    </tr>\n",
       "    <tr>\n",
       "      <td id=\"T_9a086_row1_col0\" class=\"data row1 col0\" >true_pos_rate_below_threshold</td>\n",
       "      <td id=\"T_9a086_row1_col1\" class=\"data row1 col1\" >None</td>\n",
       "      <td id=\"T_9a086_row1_col2\" class=\"data row1 col2\" >9</td>\n",
       "      <td id=\"T_9a086_row1_col3\" class=\"data row1 col3\" >None</td>\n",
       "      <td id=\"T_9a086_row1_col4\" class=\"data row1 col4\" >nan</td>\n",
       "      <td id=\"T_9a086_row1_col5\" class=\"data row1 col5\" ><compiled_function true_pos_rate at 0x14ec54040></td>\n",
       "      <td id=\"T_9a086_row1_col6\" class=\"data row1 col6\" >0.659111</td>\n",
       "      <td id=\"T_9a086_row1_col7\" class=\"data row1 col7\" >[0.7, 1.0]</td>\n",
       "      <td id=\"T_9a086_row1_col8\" class=\"data row1 col8\" >None</td>\n",
       "    </tr>\n",
       "  </tbody>\n",
       "</table>\n"
      ],
      "text/plain": [
       "<pandas.io.formats.style.Styler at 0x150381750>"
      ]
     },
     "execution_count": 14,
     "metadata": {},
     "output_type": "execute_result"
    }
   ],
   "source": [
    "# issues_accuracy_rca\n",
    "\n",
    "def highlight_row_from_listofseg(row):\n",
    "    list_seg = list_of_segments(issues_accuracy_rca)\n",
    "    color = 'whie'\n",
    "    if row[\"name\"]+1 in list_seg:\n",
    "        color = '#FFB3BA' # Red\n",
    "    return ['background-color: {}'.format(color) for r in row]\n",
    "\n",
    "def segments_accuracy_rca_pretty(styler):\n",
    "    styler.hide(axis=\"index\")\n",
    "    styler.apply(backround_first_column, axis='columns')\n",
    "    styler.applymap(font_color)\n",
    "    styler.set_caption(\"Segments Accuracy RCA\")\n",
    "    styler.apply(highlight_row_from_listofseg, axis=1)\n",
    "    return styler \n",
    "\n",
    "issues_accuracy_rca.style.pipe(issues_accuracy_rca_pretty)"
   ]
  },
  {
   "cell_type": "code",
   "execution_count": 15,
   "metadata": {},
   "outputs": [
    {
     "data": {
      "text/html": [
       "<style type=\"text/css\">\n",
       "#T_13dd2_row0_col0, #T_13dd2_row0_col1, #T_13dd2_row0_col2, #T_13dd2_row0_col3, #T_13dd2_row1_col0, #T_13dd2_row1_col1, #T_13dd2_row1_col2, #T_13dd2_row1_col3, #T_13dd2_row2_col0, #T_13dd2_row2_col1, #T_13dd2_row2_col2, #T_13dd2_row2_col3, #T_13dd2_row3_col0, #T_13dd2_row3_col1, #T_13dd2_row3_col2, #T_13dd2_row3_col3, #T_13dd2_row4_col0, #T_13dd2_row4_col1, #T_13dd2_row4_col2, #T_13dd2_row4_col3, #T_13dd2_row5_col0, #T_13dd2_row5_col1, #T_13dd2_row5_col2, #T_13dd2_row5_col3, #T_13dd2_row6_col0, #T_13dd2_row6_col1, #T_13dd2_row6_col2, #T_13dd2_row6_col3 {\n",
       "  background-color: white;\n",
       "  color: black;\n",
       "  background-color: whie;\n",
       "}\n",
       "#T_13dd2_row7_col0, #T_13dd2_row7_col1, #T_13dd2_row7_col2, #T_13dd2_row7_col3, #T_13dd2_row8_col0, #T_13dd2_row8_col1, #T_13dd2_row8_col2, #T_13dd2_row8_col3 {\n",
       "  background-color: white;\n",
       "  color: black;\n",
       "  background-color: #FFB3BA;\n",
       "}\n",
       "</style>\n",
       "<table id=\"T_13dd2\">\n",
       "  <caption>Segments Accuracy RCA</caption>\n",
       "  <thead>\n",
       "    <tr>\n",
       "      <th id=\"T_13dd2_level0_col0\" class=\"col_heading level0 col0\" >name</th>\n",
       "      <th id=\"T_13dd2_level0_col1\" class=\"col_heading level0 col1\" >business_rule</th>\n",
       "      <th id=\"T_13dd2_level0_col2\" class=\"col_heading level0 col2\" >mask</th>\n",
       "      <th id=\"T_13dd2_level0_col3\" class=\"col_heading level0 col3\" >tags</th>\n",
       "    </tr>\n",
       "  </thead>\n",
       "  <tbody>\n",
       "    <tr>\n",
       "      <td id=\"T_13dd2_row0_col0\" class=\"data row0 col0\" >0</td>\n",
       "      <td id=\"T_13dd2_row0_col1\" class=\"data row0 col1\" >all</td>\n",
       "      <td id=\"T_13dd2_row0_col2\" class=\"data row0 col2\" >[ True  True  True ...  True  True  True]</td>\n",
       "      <td id=\"T_13dd2_row0_col3\" class=\"data row0 col3\" >{'accuracy', 'true_pos_rate'}</td>\n",
       "    </tr>\n",
       "    <tr>\n",
       "      <td id=\"T_13dd2_row1_col0\" class=\"data row1 col0\" >1</td>\n",
       "      <td id=\"T_13dd2_row1_col1\" class=\"data row1 col1\" >`relationship` > 0.0</td>\n",
       "      <td id=\"T_13dd2_row1_col2\" class=\"data row1 col2\" >[ True False  True ...  True  True  True]</td>\n",
       "      <td id=\"T_13dd2_row1_col3\" class=\"data row1 col3\" >{'accuracy'}</td>\n",
       "    </tr>\n",
       "    <tr>\n",
       "      <td id=\"T_13dd2_row2_col0\" class=\"data row2 col0\" >2</td>\n",
       "      <td id=\"T_13dd2_row2_col1\" class=\"data row2 col1\" >`age` > 27.0 and `relationship` > 0.0</td>\n",
       "      <td id=\"T_13dd2_row2_col2\" class=\"data row2 col2\" >[ True False False ...  True  True False]</td>\n",
       "      <td id=\"T_13dd2_row2_col3\" class=\"data row2 col3\" >{'accuracy'}</td>\n",
       "    </tr>\n",
       "    <tr>\n",
       "      <td id=\"T_13dd2_row3_col0\" class=\"data row3 col0\" >3</td>\n",
       "      <td id=\"T_13dd2_row3_col1\" class=\"data row3 col1\" >`age` > 40.0 and `relationship` > 0.0</td>\n",
       "      <td id=\"T_13dd2_row3_col2\" class=\"data row3 col2\" >[False False False ...  True  True False]</td>\n",
       "      <td id=\"T_13dd2_row3_col3\" class=\"data row3 col3\" >{'accuracy'}</td>\n",
       "    </tr>\n",
       "    <tr>\n",
       "      <td id=\"T_13dd2_row4_col0\" class=\"data row4 col0\" >4</td>\n",
       "      <td id=\"T_13dd2_row4_col1\" class=\"data row4 col1\" >27.0 < `age` <= 40.0 and `relationship` > 0.0</td>\n",
       "      <td id=\"T_13dd2_row4_col2\" class=\"data row4 col2\" >[ True False False ... False False False]</td>\n",
       "      <td id=\"T_13dd2_row4_col3\" class=\"data row4 col3\" >{'accuracy'}</td>\n",
       "    </tr>\n",
       "    <tr>\n",
       "      <td id=\"T_13dd2_row5_col0\" class=\"data row5 col0\" >5</td>\n",
       "      <td id=\"T_13dd2_row5_col1\" class=\"data row5 col1\" >`age` <= 27.0 and `relationship` > 0.0</td>\n",
       "      <td id=\"T_13dd2_row5_col2\" class=\"data row5 col2\" >[False False  True ... False False  True]</td>\n",
       "      <td id=\"T_13dd2_row5_col3\" class=\"data row5 col3\" >{'accuracy'}</td>\n",
       "    </tr>\n",
       "    <tr>\n",
       "      <td id=\"T_13dd2_row6_col0\" class=\"data row6 col0\" >6</td>\n",
       "      <td id=\"T_13dd2_row6_col1\" class=\"data row6 col1\" >`age` <= 27.0 and `relationship` > 3.0</td>\n",
       "      <td id=\"T_13dd2_row6_col2\" class=\"data row6 col2\" >[False False False ... False False  True]</td>\n",
       "      <td id=\"T_13dd2_row6_col3\" class=\"data row6 col3\" >{'accuracy'}</td>\n",
       "    </tr>\n",
       "    <tr>\n",
       "      <td id=\"T_13dd2_row7_col0\" class=\"data row7 col0\" >7</td>\n",
       "      <td id=\"T_13dd2_row7_col1\" class=\"data row7 col1\" >`age` <= 27.0 and 0.0 < `relationship` <= 3.0</td>\n",
       "      <td id=\"T_13dd2_row7_col2\" class=\"data row7 col2\" >[False False  True ... False False False]</td>\n",
       "      <td id=\"T_13dd2_row7_col3\" class=\"data row7 col3\" >{'accuracy'}</td>\n",
       "    </tr>\n",
       "    <tr>\n",
       "      <td id=\"T_13dd2_row8_col0\" class=\"data row8 col0\" >8</td>\n",
       "      <td id=\"T_13dd2_row8_col1\" class=\"data row8 col1\" >`relationship` <= 0.0</td>\n",
       "      <td id=\"T_13dd2_row8_col2\" class=\"data row8 col2\" >[False  True False ... False False False]</td>\n",
       "      <td id=\"T_13dd2_row8_col3\" class=\"data row8 col3\" >{'accuracy'}</td>\n",
       "    </tr>\n",
       "  </tbody>\n",
       "</table>\n"
      ],
      "text/plain": [
       "<pandas.io.formats.style.Styler at 0x150382f20>"
      ]
     },
     "execution_count": 15,
     "metadata": {},
     "output_type": "execute_result"
    }
   ],
   "source": [
    "#segments_accuracy_rca\n",
    "\n",
    "segments_accuracy_rca.style.pipe(segments_accuracy_rca_pretty)\n",
    "\n"
   ]
  },
  {
   "cell_type": "markdown",
   "metadata": {},
   "source": [
    "In terms of accuracy, the normal scan doesn't find any issues. However the RCA scan finds 1 issue with accuracy falling below the threshold."
   ]
  },
  {
   "cell_type": "code",
   "execution_count": null,
   "metadata": {},
   "outputs": [],
   "source": []
  }
 ],
 "metadata": {
  "kernelspec": {
   "display_name": "etiq-1.3.7.1",
   "language": "python",
   "name": "etiq-1.3.7.1"
  },
  "language_info": {
   "codemirror_mode": {
    "name": "ipython",
    "version": 3
   },
   "file_extension": ".py",
   "mimetype": "text/x-python",
   "name": "python",
   "nbconvert_exporter": "python",
   "pygments_lexer": "ipython3",
   "version": "3.10.10"
  },
  "vscode": {
   "interpreter": {
    "hash": "0f73d2918ef91b3de9bdb310b3a78ccab2f85746153637654c892175835a3eb5"
   }
  }
 },
 "nbformat": 4,
 "nbformat_minor": 5
}
