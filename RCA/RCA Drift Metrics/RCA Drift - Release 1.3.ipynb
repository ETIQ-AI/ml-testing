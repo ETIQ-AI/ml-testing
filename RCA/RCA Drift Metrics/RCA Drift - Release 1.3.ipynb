{
 "cells": [
  {
   "cell_type": "markdown",
   "metadata": {},
   "source": [
    "## Set-up"
   ]
  },
  {
   "cell_type": "code",
   "execution_count": null,
   "metadata": {},
   "outputs": [],
   "source": [
    "import etiq\n",
    "import numpy as np"
   ]
  },
  {
   "cell_type": "code",
   "execution_count": null,
   "metadata": {},
   "outputs": [],
   "source": [
    "etiq.login(\"https://dashboard.etiq.ai/\", \"<token>\")"
   ]
  },
  {
   "cell_type": "code",
   "execution_count": null,
   "metadata": {},
   "outputs": [],
   "source": [
    "# Can get/create a single named project\n",
    "project = etiq.projects.open(name=\"RCA_Drift_Scans\")"
   ]
  },
  {
   "cell_type": "markdown",
   "metadata": {},
   "source": [
    "## Create the test datasets based on the Adult Income Dataset"
   ]
  },
  {
   "cell_type": "markdown",
   "metadata": {},
   "source": [
    "To illustrate some of the library's features, we build a model that predicts whether an applicant makes over or under 50K using the Adult dataset from https://archive.ics.uci.edu/ml/datasets/adult."
   ]
  },
  {
   "cell_type": "code",
   "execution_count": null,
   "metadata": {},
   "outputs": [],
   "source": [
    "# Loading a dataset. We're using the adult dataset\n",
    "data = etiq.utils.load_sample(\"adultdata\")\n",
    "data.head()\n",
    "data = data.replace('?', np.nan)\n",
    "data.dropna(inplace=True)"
   ]
  },
  {
   "cell_type": "code",
   "execution_count": null,
   "metadata": {},
   "outputs": [],
   "source": [
    "\n",
    "from etiq.transforms import LabelEncoder\n",
    "import pandas as pd\n",
    "import numpy as np \n",
    "\n",
    "# use a LabelEncoder to transform categorical variables\n",
    "cont_vars = ['age', 'educational-num', 'fnlwgt', 'capital-gain', 'capital-loss', 'hours-per-week']\n",
    "cat_vars = list(set(data.columns.values) - set(cont_vars))\n",
    "\n",
    "label_encoders = {}\n",
    "data_encoded = pd.DataFrame()\n",
    "for i in cat_vars:\n",
    "    label = LabelEncoder()\n",
    "    data_encoded[i] = label.fit_transform(data[i])\n",
    "    label_encoders[i] = label\n",
    "\n",
    "data_encoded.set_index(data.index, inplace=True)\n",
    "data_encoded = pd.concat([data.loc[:, cont_vars], data_encoded], axis=1).copy()\n"
   ]
  },
  {
   "cell_type": "markdown",
   "metadata": {},
   "source": [
    "# Notebook Summary\n",
    "\n",
    "\n",
    "### Quickstart\n",
    "\n",
    "  1. Import etiq library - for install please check our docs (https://docs.etiq.ai/)\n",
    "\n",
    "  2. Login to the dashboard - this way you can send the results to your dashboard instance (Etiq AWS instance if you use the SaaS version). To deploy on your own cloud instance, get in touch (info@etiq.ai)\n",
    "\n",
    "  3. Create or open a project\n",
    "\n",
    "### Feature drift (RCA)\n",
    "\n",
    "\n",
    "  4. Load Adult dataset\n",
    "\n",
    "  5. Create drifted dataset based on a defined segment of the Adult data - for example purposes\n",
    "\n",
    "  6. Load your config file and create your snapshot\n",
    "\n",
    "  7. Scan for RCA feature drift\n",
    "\n",
    "\n",
    "### Target drift (RCA)\n",
    "\n",
    "  8. Create drifted datasets based on a defined segment of the Adult datatset - for example purposes\n",
    "\n",
    "  9. Load your config file and create your snapshot\n",
    "\n",
    "  10. Scan for feature, concept and target drift\n",
    "\n",
    "## What is drift?\n",
    "\n",
    "Drift can impact your model in production and make it perform worse than you initially expected.\n",
    "\n",
    "There are a few different kinds of drift:\n",
    "\n",
    "1. Feature drift\n",
    "\n",
    "Feature drift takes place when the distributions of the input features changes. For instance, perhaps you built your model on a sample dataset from the winter period and it's now summer, and your model predicting what kind of dessert people are more likely to buy is not longer as accurate.\n",
    "\n",
    "\n",
    "2. Target drift\n",
    "\n",
    "Similarly to feature drift, target drif is about distribution of the predicted feature changing from one time period to the next.\n",
    "\n",
    "## What is RCA Drift?\n",
    "\n",
    "Imagine if your drift tests have picked up issues, this test finds out exactly which segment has the issue, which should help you fix it sooner. In addition if only a part of the data drifted your overall tests might not pick up on it, but this test would. The scan it will auto-discover problematic segments on its own without the need for the user to specify segments to test.\n",
    "\n",
    "Currently we only provide RCA drift for feature and target drift.\n",
    "\n",
    "This test pipeline is experimental.\n",
    "\n",
    "\n"
   ]
  },
  {
   "cell_type": "code",
   "execution_count": null,
   "metadata": {},
   "outputs": [],
   "source": [
    "# Create the \"drifted\" dataset\n",
    "data_encoded_comparison = data_encoded.copy()\n",
    "# Expand hours worked by the self employed by 25% in the comparison dataset\n",
    "# This is small enough that this drift will not show up for the overall dataset for 'hours-per-week'\n",
    "self_emp_mask = data_encoded.eval(f'workclass in {list(label_encoders[\"workclass\"].transform([\"Self-emp-inc\"]))}')\n",
    "data_encoded_comparison.loc[self_emp_mask, 'hours-per-week'] = 1.25 * data_encoded[self_emp_mask]['hours-per-week']"
   ]
  },
  {
   "cell_type": "code",
   "execution_count": null,
   "metadata": {},
   "outputs": [],
   "source": [
    "# Construct etiq style datasets\n",
    "base_dataset = etiq.SimpleDatasetBuilder.from_dataframe(data_encoded, target_feature='income').build()\n",
    "comparison_dataset = etiq.SimpleDatasetBuilder.from_dataframe(data_encoded_comparison, target_feature='income').build()"
   ]
  },
  {
   "cell_type": "markdown",
   "metadata": {},
   "source": [
    "## Calculate RCA Feature Drift\n",
    "\n",
    "1. (Optional) Define custom drift measures (See the normal drift measure scan for an example)\n",
    "\n",
    "2. Loading the config \n",
    "\n",
    "3. Log the datasets & create the snapshot - no model needed for this scan\n",
    "\n",
    "4. Run the RCA feature drift scan\n",
    "\n",
    "This can happen at any point in the pipeline and through a variety of ways"
   ]
  },
  {
   "cell_type": "code",
   "execution_count": null,
   "metadata": {},
   "outputs": [],
   "source": [
    "with etiq.etiq_config(\"./drift-config-rca.json\"):\n",
    "    snapshot = project.snapshots.create(name=\"Test Drift RCA Snapshot\", \n",
    "                                        dataset=base_dataset,\n",
    "                                        comparison_dataset=comparison_dataset,\n",
    "                                        model=None)\n",
    "    # Scan for feature drift\n",
    "    (segments, issues, issue_summary) = snapshot.scan_drift_metrics_rca()\n",
    "    # Scan for target drift\n",
    "    (segments_t, issues_t, issue_summary_t) = snapshot.scan_target_drift_metrics_rca()"
   ]
  },
  {
   "cell_type": "code",
   "execution_count": null,
   "metadata": {},
   "outputs": [],
   "source": [
    "issues"
   ]
  },
  {
   "cell_type": "code",
   "execution_count": null,
   "metadata": {},
   "outputs": [],
   "source": [
    "segments.iloc[1]"
   ]
  },
  {
   "cell_type": "code",
   "execution_count": null,
   "metadata": {},
   "outputs": [],
   "source": [
    "print(f'Workclass 3 == \"{label_encoders[\"workclass\"].inverse_transform([3])[0]}\"')"
   ]
  },
  {
   "cell_type": "code",
   "execution_count": null,
   "metadata": {},
   "outputs": [],
   "source": [
    "issue_summary"
   ]
  },
  {
   "cell_type": "code",
   "execution_count": null,
   "metadata": {},
   "outputs": [],
   "source": [
    "issue_summary_t"
   ]
  },
  {
   "cell_type": "markdown",
   "metadata": {},
   "source": [
    "## Calculate RCA Target Drift\n",
    "\n",
    "1. (Optional) Define custom drift measures (See the normal drift measure scan for an example)\n",
    "\n",
    "2. Loading the config \n",
    "\n",
    "3. Log the datasets & create the snapshot - no model needed for this scan\n",
    "\n",
    "4. Run the RCA target drift scan\n",
    "\n",
    "This can happen at any point in the pipeline and through a variety of ways"
   ]
  },
  {
   "cell_type": "code",
   "execution_count": null,
   "metadata": {},
   "outputs": [],
   "source": [
    "# Create the \"drifted\" dataset\n",
    "data_encoded_target_drifted = data_encoded.copy()\n",
    "# For all pacific islanders slip income\n",
    "pacific_islander_mask = data_encoded.eval(f'race in {list(label_encoders[\"race\"].transform([\"Asian-Pac-Islander\"]))}')\n",
    "data_encoded_target_drifted.loc[pacific_islander_mask, 'income'] = np.logical_not(data_encoded[pacific_islander_mask]['income']).astype(int)"
   ]
  },
  {
   "cell_type": "code",
   "execution_count": null,
   "metadata": {},
   "outputs": [],
   "source": [
    "comparison_dataset2 = etiq.SimpleDatasetBuilder.from_dataframe(data_encoded_target_drifted, target_feature='income').build()\n",
    "with etiq.etiq_config(\"./drift-config-rca.json\"):\n",
    "    snapshot2 = project.snapshots.create(name=\"Test Drift RCA Snapshot\", \n",
    "                                        dataset=base_dataset,\n",
    "                                        comparison_dataset=comparison_dataset2,\n",
    "                                        model=None)\n",
    "    # Scan for feature drift\n",
    "    (segments_2, issues_2, issue_summary_2) = snapshot2.scan_drift_metrics_rca()\n",
    "    # Scan for target drift\n",
    "    (segments_t2, issues_t2, issue_summary_t2) = snapshot2.scan_target_drift_metrics_rca()"
   ]
  },
  {
   "cell_type": "code",
   "execution_count": null,
   "metadata": {},
   "outputs": [],
   "source": [
    "issue_summary_t2"
   ]
  }
 ],
 "metadata": {
  "kernelspec": {
   "display_name": "Python 3.8.10 64-bit",
   "language": "python",
   "name": "python3"
  },
  "language_info": {
   "codemirror_mode": {
    "name": "ipython",
    "version": 3
   },
   "file_extension": ".py",
   "mimetype": "text/x-python",
   "name": "python",
   "nbconvert_exporter": "python",
   "pygments_lexer": "ipython3",
   "version": "3.8.10"
  },
  "orig_nbformat": 4,
  "vscode": {
   "interpreter": {
    "hash": "31f2aee4e71d21fbe5cf8b01ff0e069b9275f58929596ceb00d14d90e3e16cd6"
   }
  }
 },
 "nbformat": 4,
 "nbformat_minor": 2
}
