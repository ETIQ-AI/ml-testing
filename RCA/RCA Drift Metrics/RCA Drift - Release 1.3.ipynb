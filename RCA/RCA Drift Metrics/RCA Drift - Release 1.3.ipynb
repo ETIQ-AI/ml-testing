{
 "cells": [
  {
   "cell_type": "markdown",
   "metadata": {},
   "source": [
    "# Notebook Summary\n",
    "\n",
    "\n",
    "### Quickstart\n",
    "\n",
    "  1. Import etiq library - for install please check our docs (https://docs.etiq.ai/)\n",
    "\n",
    "  2. Login to the dashboard - this way you can send the results to your dashboard instance (Etiq AWS instance if you use the SaaS version). To deploy on our own AWS instance, you can do so via the AWS Marketplace. To deploy on your own cloud instance, get in touch (info@etiq.ai)\n",
    "\n",
    "  3. Create or open a project\n",
    "\n",
    "### Feature drift (RCA)\n",
    "\n",
    "\n",
    "  4. Load Adult dataset\n",
    "\n",
    "  5. Create drifted dataset based on a defined segment of the Adult data - for example purposes\n",
    "\n",
    "  6. Load your config file and create your snapshot\n",
    "\n",
    "  7. Scan for RCA feature drift\n",
    "\n",
    "\n",
    "### Target drift (RCA)\n",
    "\n",
    "  8. Create drifted datasets based on a defined segment of the Adult datatset - for example purposes\n",
    "\n",
    "  9. Load your config file and create your snapshot\n",
    "\n",
    "  10. Scan for feature, concept and target drift\n",
    "  \n",
    "\n",
    "## What is drift?\n",
    "\n",
    "Drift can impact your model in production and make it perform worse than you initially expected.\n",
    "\n",
    "There are a few different kinds of drift:\n",
    "\n",
    "1. Feature drift\n",
    "\n",
    "Feature drift takes place when the distributions of the input features changes. For instance, perhaps you built your model on a sample dataset from the winter period and it's now summer, and your model predicting what kind of dessert people are more likely to buy is not longer as accurate.\n",
    "\n",
    "\n",
    "2. Target drift\n",
    "\n",
    "Similarly to feature drift, target drif is about distribution of the predicted feature changing from one time period to the next.\n",
    "\n",
    "## What is RCA Drift?\n",
    "\n",
    "Imagine if your drift tests have picked up issues, this test finds out exactly which segment has the issue, which should help you fix it sooner. In addition if only a part of the data drifted your overall tests might not pick up on it, but this test would. The scan it will auto-discover problematic segments on its own without the need for the user to specify segments to test.\n",
    "\n",
    "Currently we only provide RCA drift for feature and target drift.\n",
    "\n",
    "This test pipeline is experimental.\n",
    "\n",
    "\n"
   ]
  },
  {
   "cell_type": "markdown",
   "metadata": {},
   "source": [
    " "
   ]
  },
  {
   "cell_type": "markdown",
   "metadata": {},
   "source": [
    "## QUICKSTART"
   ]
  },
  {
   "cell_type": "code",
   "execution_count": 1,
   "metadata": {},
   "outputs": [
    {
     "name": "stdout",
     "output_type": "stream",
     "text": [
      "Thanks for trying out the ETIQ.ai toolkit!\n",
      "\n",
      "Visit our getting started documentation at https://docs.etiq.ai/\n",
      "\n",
      "Visit our Slack channel at https://etiqcore.slack.com/ for support or feedback.\n",
      "\n"
     ]
    }
   ],
   "source": [
    "import etiq\n",
    "import numpy as np"
   ]
  },
  {
   "cell_type": "code",
   "execution_count": 2,
   "metadata": {},
   "outputs": [
    {
     "name": "stdout",
     "output_type": "stream",
     "text": [
      "(Dashboard supplied updated license information)\n"
     ]
    },
    {
     "data": {
      "text/plain": [
       "Connection successful. Projects and pipelines will be displayed in the dashboard. 😀"
      ]
     },
     "execution_count": 2,
     "metadata": {},
     "output_type": "execute_result"
    }
   ],
   "source": [
    "etiq.login(\"https://dashboard.etiq.ai/\", \"<token>\")"
   ]
  },
  {
   "cell_type": "code",
   "execution_count": 3,
   "metadata": {},
   "outputs": [],
   "source": [
    "# Can get/create a single named project\n",
    "project = etiq.projects.open(name=\"RCA_Drift_Scans\")"
   ]
  },
  {
   "cell_type": "markdown",
   "metadata": {},
   "source": [
    "## Create the test datasets based on the Adult Income Dataset"
   ]
  },
  {
   "cell_type": "markdown",
   "metadata": {},
   "source": [
    "To illustrate some of the library's features, we build a model that predicts whether an applicant makes over or under 50K using the Adult dataset from https://archive.ics.uci.edu/ml/datasets/adult."
   ]
  },
  {
   "cell_type": "code",
   "execution_count": 4,
   "metadata": {},
   "outputs": [],
   "source": [
    "# Loading a dataset. We're using the adult dataset\n",
    "data = etiq.utils.load_sample(\"adultdata\")\n",
    "data.head()\n",
    "data = data.replace('?', np.nan)\n",
    "data.dropna(inplace=True)"
   ]
  },
  {
   "cell_type": "code",
   "execution_count": 5,
   "metadata": {},
   "outputs": [],
   "source": [
    "\n",
    "from etiq.transforms import LabelEncoder\n",
    "import pandas as pd\n",
    "import numpy as np \n",
    "\n",
    "# use a LabelEncoder to transform categorical variables\n",
    "cont_vars = ['age', 'educational-num', 'fnlwgt', 'capital-gain', 'capital-loss', 'hours-per-week']\n",
    "cat_vars = list(set(data.columns.values) - set(cont_vars))\n",
    "\n",
    "label_encoders = {}\n",
    "data_encoded = pd.DataFrame()\n",
    "for i in cat_vars:\n",
    "    label = LabelEncoder()\n",
    "    data_encoded[i] = label.fit_transform(data[i])\n",
    "    label_encoders[i] = label\n",
    "\n",
    "data_encoded.set_index(data.index, inplace=True)\n",
    "data_encoded = pd.concat([data.loc[:, cont_vars], data_encoded], axis=1).copy()\n"
   ]
  },
  {
   "cell_type": "code",
   "execution_count": 6,
   "metadata": {},
   "outputs": [],
   "source": [
    "# Create the \"drifted\" dataset\n",
    "data_encoded_comparison = data_encoded.copy()\n",
    "# Expand hours worked by the self employed by 25% in the comparison dataset\n",
    "# This is small enough that this drift will not show up for the overall dataset for 'hours-per-week'\n",
    "self_emp_mask = data_encoded.eval(f'workclass in {list(label_encoders[\"workclass\"].transform([\"Self-emp-inc\"]))}')\n",
    "data_encoded_comparison.loc[self_emp_mask, 'hours-per-week'] = 1.25 * data_encoded[self_emp_mask]['hours-per-week']"
   ]
  },
  {
   "cell_type": "code",
   "execution_count": 7,
   "metadata": {},
   "outputs": [],
   "source": [
    "# Construct etiq style datasets\n",
    "base_dataset = etiq.SimpleDatasetBuilder.from_dataframe(data_encoded, target_feature='income').build()\n",
    "comparison_dataset = etiq.SimpleDatasetBuilder.from_dataframe(data_encoded_comparison, target_feature='income').build()"
   ]
  },
  {
   "cell_type": "markdown",
   "metadata": {},
   "source": [
    "## Calculate RCA Feature Drift\n",
    "\n",
    "1. (Optional) Define custom drift measures (See the regular drif scan for an example)\n",
    "\n",
    "2. Loading the config \n",
    "\n",
    "3. Log the datasets & create the snapshot - no model needed for this scan\n",
    "\n",
    "4. Run the RCA feature drift scan\n",
    "\n",
    "This can happen at any point in the pipeline and through a variety of ways"
   ]
  },
  {
   "cell_type": "code",
   "execution_count": 8,
   "metadata": {},
   "outputs": [
    {
     "name": "stdout",
     "output_type": "stream",
     "text": [
      "INFO:etiq.pipeline.IdentifyPipeline0747:Starting pipeline\n",
      "INFO:etiq.pipeline.IdentifyPipeline0747:RCA drift scan for feature hours-per-week\n",
      "INFO:etiq.pipeline.IdentifyPipeline0747:Measure = psi\n",
      "INFO:etiq.pipeline.IdentifyPipeline0747:Searching for segments above the threshold 0.15\n",
      "INFO:etiq.pipeline.IdentifyPipeline0747:Completed pipeline\n",
      "INFO:etiq.pipeline.IdentifyPipeline0614:Starting pipeline\n",
      "INFO:etiq.pipeline.IdentifyPipeline0614:RCA target drift scan.\n",
      "INFO:etiq.pipeline.IdentifyPipeline0614:Measure = psi\n",
      "INFO:etiq.pipeline.IdentifyPipeline0614:Searching for segments above the threshold 0.15\n"
     ]
    },
    {
     "name": "stderr",
     "output_type": "stream",
     "text": [
      "/home/raluca/etiq/python_core/etiq/drift_measures.py:97: RuntimeWarning: invalid value encountered in true_divide\n",
      "  actual_percents = np.histogram(new_dist, breakpoints)[0] / len(new_dist)\n"
     ]
    },
    {
     "name": "stdout",
     "output_type": "stream",
     "text": [
      "INFO:etiq.pipeline.IdentifyPipeline0614:Completed pipeline\n"
     ]
    }
   ],
   "source": [
    "with etiq.etiq_config(\"./drift-config-rca.json\"):\n",
    "    snapshot = project.snapshots.create(name=\"Test Drift RCA Snapshot\", \n",
    "                                        dataset=base_dataset,\n",
    "                                        comparison_dataset=comparison_dataset,\n",
    "                                        model=None)\n",
    "    # Scan for feature drift\n",
    "    (segments, issues, issue_summary) = snapshot.scan_drift_metrics_rca()\n",
    "    # Scan for target drift\n",
    "    (segments_t, issues_t, issue_summary_t) = snapshot.scan_target_drift_metrics_rca()"
   ]
  },
  {
   "cell_type": "code",
   "execution_count": 9,
   "metadata": {},
   "outputs": [
    {
     "data": {
      "text/plain": [
       "{'dataset': {'label': 'income',\n",
       "  'bias_params': {'protected': 'gender',\n",
       "   'privileged': 1,\n",
       "   'unprivileged': 0,\n",
       "   'positive_outcome_label': 1,\n",
       "   'negative_outcome_label': 0},\n",
       "  'train_valid_test_splits': [0.8, 0.2, 0.0],\n",
       "  'cat_col': 'cat_vars',\n",
       "  'cont_col': 'cont_vars'},\n",
       " 'scan_drift_metrics': {'thresholds': {'psi': [0.0, 0.15],\n",
       "   'kolmogorov_smirnov': [0.05, 1.0]},\n",
       "  'drift_measures': ['kolmogorov_smirnov', 'psi']},\n",
       " 'scan_target_drift_metrics_rca': {'thresholds': {'psi': [0.0, 0.15]},\n",
       "  'drift_measures': ['psi'],\n",
       "  'ignore_lower_threshold': True,\n",
       "  'ignore_upper_threshold': False,\n",
       "  'minimum_segment_size': 1000},\n",
       " 'scan_drift_metrics_rca': {'thresholds': {'psi': [0.0, 0.15]},\n",
       "  'drift_measures': ['psi'],\n",
       "  'ignore_lower_threshold': True,\n",
       "  'ignore_upper_threshold': False,\n",
       "  'minimum_segment_size': 1000,\n",
       "  'features': ['hours-per-week']}}"
      ]
     },
     "execution_count": 9,
     "metadata": {},
     "output_type": "execute_result"
    }
   ],
   "source": [
    "#to see what config you're using you can also load it in the interface, but this is not required\n",
    "etiq.load_config(\"./drift-config-rca.json\")\n"
   ]
  },
  {
   "cell_type": "code",
   "execution_count": 10,
   "metadata": {},
   "outputs": [
    {
     "data": {
      "text/html": [
       "<div>\n",
       "<style scoped>\n",
       "    .dataframe tbody tr th:only-of-type {\n",
       "        vertical-align: middle;\n",
       "    }\n",
       "\n",
       "    .dataframe tbody tr th {\n",
       "        vertical-align: top;\n",
       "    }\n",
       "\n",
       "    .dataframe thead th {\n",
       "        text-align: right;\n",
       "    }\n",
       "</style>\n",
       "<table border=\"1\" class=\"dataframe\">\n",
       "  <thead>\n",
       "    <tr style=\"text-align: right;\">\n",
       "      <th></th>\n",
       "      <th>name</th>\n",
       "      <th>feature</th>\n",
       "      <th>segment</th>\n",
       "      <th>measure</th>\n",
       "      <th>measure_value</th>\n",
       "      <th>metric</th>\n",
       "      <th>metric_value</th>\n",
       "      <th>threshold</th>\n",
       "    </tr>\n",
       "  </thead>\n",
       "  <tbody>\n",
       "    <tr>\n",
       "      <th>0</th>\n",
       "      <td>feature_drift_rca_above_threshold</td>\n",
       "      <td>hours-per-week</td>\n",
       "      <td>1</td>\n",
       "      <td>&lt;function psi at 0x7ff80fb23430&gt;</td>\n",
       "      <td>1.44837</td>\n",
       "      <td>None</td>\n",
       "      <td>NaN</td>\n",
       "      <td>[0.0, 0.15]</td>\n",
       "    </tr>\n",
       "  </tbody>\n",
       "</table>\n",
       "</div>"
      ],
      "text/plain": [
       "                                name         feature  segment  \\\n",
       "0  feature_drift_rca_above_threshold  hours-per-week        1   \n",
       "\n",
       "                            measure  measure_value metric  metric_value  \\\n",
       "0  <function psi at 0x7ff80fb23430>        1.44837   None           NaN   \n",
       "\n",
       "     threshold  \n",
       "0  [0.0, 0.15]  "
      ]
     },
     "execution_count": 10,
     "metadata": {},
     "output_type": "execute_result"
    }
   ],
   "source": [
    "issues"
   ]
  },
  {
   "cell_type": "code",
   "execution_count": 11,
   "metadata": {},
   "outputs": [
    {
     "data": {
      "text/plain": [
       "name                                                             1\n",
       "business_rule                                    `workclass`  == 3\n",
       "mask             [False, False, False, False, False, False, Fal...\n",
       "Name: 1, dtype: object"
      ]
     },
     "execution_count": 11,
     "metadata": {},
     "output_type": "execute_result"
    }
   ],
   "source": [
    "segments.iloc[1]"
   ]
  },
  {
   "cell_type": "code",
   "execution_count": 12,
   "metadata": {},
   "outputs": [
    {
     "name": "stdout",
     "output_type": "stream",
     "text": [
      "Workclass 3 == \"Self-emp-inc\"\n"
     ]
    }
   ],
   "source": [
    "print(f'Workclass 3 == \"{label_encoders[\"workclass\"].inverse_transform([3])[0]}\"')"
   ]
  },
  {
   "cell_type": "code",
   "execution_count": 13,
   "metadata": {},
   "outputs": [
    {
     "data": {
      "text/html": [
       "<div>\n",
       "<style scoped>\n",
       "    .dataframe tbody tr th:only-of-type {\n",
       "        vertical-align: middle;\n",
       "    }\n",
       "\n",
       "    .dataframe tbody tr th {\n",
       "        vertical-align: top;\n",
       "    }\n",
       "\n",
       "    .dataframe thead th {\n",
       "        text-align: right;\n",
       "    }\n",
       "</style>\n",
       "<table border=\"1\" class=\"dataframe\">\n",
       "  <thead>\n",
       "    <tr style=\"text-align: right;\">\n",
       "      <th></th>\n",
       "      <th>name</th>\n",
       "      <th>metric</th>\n",
       "      <th>measure</th>\n",
       "      <th>features</th>\n",
       "      <th>segments</th>\n",
       "      <th>total_issues_tested</th>\n",
       "      <th>issues_found</th>\n",
       "      <th>threshold</th>\n",
       "    </tr>\n",
       "  </thead>\n",
       "  <tbody>\n",
       "    <tr>\n",
       "      <th>0</th>\n",
       "      <td>feature_drift_rca_above_threshold</td>\n",
       "      <td>None</td>\n",
       "      <td>&lt;function psi at 0x7ff80fb23430&gt;</td>\n",
       "      <td>{hours-per-week}</td>\n",
       "      <td>{1}</td>\n",
       "      <td>85</td>\n",
       "      <td>1</td>\n",
       "      <td>[0.0, 0.15]</td>\n",
       "    </tr>\n",
       "  </tbody>\n",
       "</table>\n",
       "</div>"
      ],
      "text/plain": [
       "                                name metric                           measure  \\\n",
       "0  feature_drift_rca_above_threshold   None  <function psi at 0x7ff80fb23430>   \n",
       "\n",
       "           features segments  total_issues_tested  issues_found    threshold  \n",
       "0  {hours-per-week}      {1}                   85             1  [0.0, 0.15]  "
      ]
     },
     "execution_count": 13,
     "metadata": {},
     "output_type": "execute_result"
    }
   ],
   "source": [
    "issue_summary"
   ]
  },
  {
   "cell_type": "code",
   "execution_count": 14,
   "metadata": {},
   "outputs": [
    {
     "data": {
      "text/html": [
       "<div>\n",
       "<style scoped>\n",
       "    .dataframe tbody tr th:only-of-type {\n",
       "        vertical-align: middle;\n",
       "    }\n",
       "\n",
       "    .dataframe tbody tr th {\n",
       "        vertical-align: top;\n",
       "    }\n",
       "\n",
       "    .dataframe thead th {\n",
       "        text-align: right;\n",
       "    }\n",
       "</style>\n",
       "<table border=\"1\" class=\"dataframe\">\n",
       "  <thead>\n",
       "    <tr style=\"text-align: right;\">\n",
       "      <th></th>\n",
       "      <th>name</th>\n",
       "      <th>metric</th>\n",
       "      <th>measure</th>\n",
       "      <th>features</th>\n",
       "      <th>segments</th>\n",
       "      <th>total_issues_tested</th>\n",
       "      <th>issues_found</th>\n",
       "      <th>threshold</th>\n",
       "    </tr>\n",
       "  </thead>\n",
       "  <tbody>\n",
       "    <tr>\n",
       "      <th>0</th>\n",
       "      <td>target_drift_rca_above_threshold</td>\n",
       "      <td>None</td>\n",
       "      <td>&lt;function psi at 0x7ff80fb23430&gt;</td>\n",
       "      <td>{income}</td>\n",
       "      <td>{}</td>\n",
       "      <td>83</td>\n",
       "      <td>0</td>\n",
       "      <td>[0.0, 0.15]</td>\n",
       "    </tr>\n",
       "  </tbody>\n",
       "</table>\n",
       "</div>"
      ],
      "text/plain": [
       "                               name metric                           measure  \\\n",
       "0  target_drift_rca_above_threshold   None  <function psi at 0x7ff80fb23430>   \n",
       "\n",
       "   features segments  total_issues_tested  issues_found    threshold  \n",
       "0  {income}       {}                   83             0  [0.0, 0.15]  "
      ]
     },
     "execution_count": 14,
     "metadata": {},
     "output_type": "execute_result"
    }
   ],
   "source": [
    "issue_summary_t"
   ]
  },
  {
   "cell_type": "markdown",
   "metadata": {},
   "source": [
    "## Calculate RCA Target Drift\n",
    "\n",
    "1. (Optional) Define custom drift measures (See the normal drift measure scan for an example)\n",
    "\n",
    "2. Loading the config \n",
    "\n",
    "3. Log the datasets & create the snapshot - no model needed for this scan\n",
    "\n",
    "4. Run the RCA target drift scan\n",
    "\n",
    "This can happen at any point in the pipeline and through a variety of ways"
   ]
  },
  {
   "cell_type": "code",
   "execution_count": 15,
   "metadata": {},
   "outputs": [],
   "source": [
    "# Create the \"drifted\" dataset\n",
    "data_encoded_target_drifted = data_encoded.copy()\n",
    "# For all pacific islanders slip income\n",
    "pacific_islander_mask = data_encoded.eval(f'race in {list(label_encoders[\"race\"].transform([\"Asian-Pac-Islander\"]))}')\n",
    "data_encoded_target_drifted.loc[pacific_islander_mask, 'income'] = np.logical_not(data_encoded[pacific_islander_mask]['income']).astype(int)"
   ]
  },
  {
   "cell_type": "code",
   "execution_count": 16,
   "metadata": {},
   "outputs": [
    {
     "name": "stdout",
     "output_type": "stream",
     "text": [
      "INFO:etiq.pipeline.IdentifyPipeline0967:Starting pipeline\n",
      "INFO:etiq.pipeline.IdentifyPipeline0967:RCA drift scan for feature hours-per-week\n",
      "INFO:etiq.pipeline.IdentifyPipeline0967:Measure = psi\n",
      "INFO:etiq.pipeline.IdentifyPipeline0967:Searching for segments above the threshold 0.15\n",
      "INFO:etiq.pipeline.IdentifyPipeline0967:Completed pipeline\n",
      "INFO:etiq.pipeline.IdentifyPipeline0497:Starting pipeline\n",
      "INFO:etiq.pipeline.IdentifyPipeline0497:RCA target drift scan.\n",
      "INFO:etiq.pipeline.IdentifyPipeline0497:Measure = psi\n",
      "INFO:etiq.pipeline.IdentifyPipeline0497:Searching for segments above the threshold 0.15\n",
      "INFO:etiq.pipeline.IdentifyPipeline0497:Completed pipeline\n"
     ]
    }
   ],
   "source": [
    "comparison_dataset2 = etiq.SimpleDatasetBuilder.from_dataframe(data_encoded_target_drifted, target_feature='income').build()\n",
    "with etiq.etiq_config(\"./drift-config-rca.json\"):\n",
    "    snapshot2 = project.snapshots.create(name=\"Test Drift RCA Snapshot\", \n",
    "                                        dataset=base_dataset,\n",
    "                                        comparison_dataset=comparison_dataset2,\n",
    "                                        model=None)\n",
    "    # Scan for feature drift\n",
    "    (segments_2, issues_2, issue_summary_2) = snapshot2.scan_drift_metrics_rca()\n",
    "    # Scan for target drift\n",
    "    (segments_t2, issues_t2, issue_summary_t2) = snapshot2.scan_target_drift_metrics_rca()"
   ]
  },
  {
   "cell_type": "code",
   "execution_count": 17,
   "metadata": {},
   "outputs": [
    {
     "data": {
      "text/html": [
       "<div>\n",
       "<style scoped>\n",
       "    .dataframe tbody tr th:only-of-type {\n",
       "        vertical-align: middle;\n",
       "    }\n",
       "\n",
       "    .dataframe tbody tr th {\n",
       "        vertical-align: top;\n",
       "    }\n",
       "\n",
       "    .dataframe thead th {\n",
       "        text-align: right;\n",
       "    }\n",
       "</style>\n",
       "<table border=\"1\" class=\"dataframe\">\n",
       "  <thead>\n",
       "    <tr style=\"text-align: right;\">\n",
       "      <th></th>\n",
       "      <th>name</th>\n",
       "      <th>metric</th>\n",
       "      <th>measure</th>\n",
       "      <th>features</th>\n",
       "      <th>segments</th>\n",
       "      <th>total_issues_tested</th>\n",
       "      <th>issues_found</th>\n",
       "      <th>threshold</th>\n",
       "    </tr>\n",
       "  </thead>\n",
       "  <tbody>\n",
       "    <tr>\n",
       "      <th>0</th>\n",
       "      <td>target_drift_rca_above_threshold</td>\n",
       "      <td>None</td>\n",
       "      <td>&lt;function psi at 0x7ff80fb23430&gt;</td>\n",
       "      <td>{income}</td>\n",
       "      <td>{1}</td>\n",
       "      <td>94</td>\n",
       "      <td>1</td>\n",
       "      <td>[0.0, 0.15]</td>\n",
       "    </tr>\n",
       "  </tbody>\n",
       "</table>\n",
       "</div>"
      ],
      "text/plain": [
       "                               name metric                           measure  \\\n",
       "0  target_drift_rca_above_threshold   None  <function psi at 0x7ff80fb23430>   \n",
       "\n",
       "   features segments  total_issues_tested  issues_found    threshold  \n",
       "0  {income}      {1}                   94             1  [0.0, 0.15]  "
      ]
     },
     "execution_count": 17,
     "metadata": {},
     "output_type": "execute_result"
    }
   ],
   "source": [
    "issue_summary_t2"
   ]
  }
 ],
 "metadata": {
  "kernelspec": {
   "display_name": "Python 3 (ipykernel)",
   "language": "python",
   "name": "python3"
  },
  "language_info": {
   "codemirror_mode": {
    "name": "ipython",
    "version": 3
   },
   "file_extension": ".py",
   "mimetype": "text/x-python",
   "name": "python",
   "nbconvert_exporter": "python",
   "pygments_lexer": "ipython3",
   "version": "3.8.10"
  },
  "vscode": {
   "interpreter": {
    "hash": "31f2aee4e71d21fbe5cf8b01ff0e069b9275f58929596ceb00d14d90e3e16cd6"
   }
  }
 },
 "nbformat": 4,
 "nbformat_minor": 2
}
